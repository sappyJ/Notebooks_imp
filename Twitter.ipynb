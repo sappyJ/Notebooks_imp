{
    "nbformat_minor": 1, 
    "cells": [
        {
            "source": "!pip install watson_developer_cloud", 
            "cell_type": "code", 
            "execution_count": 44, 
            "outputs": [
                {
                    "output_type": "stream", 
                    "name": "stdout", 
                    "text": "Collecting watson_developer_cloud\n  Downloading watson-developer-cloud-0.26.0.tar.gz (66kB)\n\u001b[K    100% |\u2588\u2588\u2588\u2588\u2588\u2588\u2588\u2588\u2588\u2588\u2588\u2588\u2588\u2588\u2588\u2588\u2588\u2588\u2588\u2588\u2588\u2588\u2588\u2588\u2588\u2588\u2588\u2588\u2588\u2588\u2588\u2588| 71kB 3.5MB/s ta 0:00:01\n\u001b[?25hRequirement already satisfied: requests<3.0,>=2.0 in /usr/local/src/bluemix_jupyter_bundle.v49/notebook/lib/python2.7/site-packages (from watson_developer_cloud)\nCollecting pysolr<4.0,>=3.3 (from watson_developer_cloud)\n  Downloading pysolr-3.6.0-py2.py3-none-any.whl\nCollecting pyOpenSSL>=16.2.0 (from watson_developer_cloud)\n  Downloading pyOpenSSL-17.1.0-py2.py3-none-any.whl (53kB)\n\u001b[K    100% |\u2588\u2588\u2588\u2588\u2588\u2588\u2588\u2588\u2588\u2588\u2588\u2588\u2588\u2588\u2588\u2588\u2588\u2588\u2588\u2588\u2588\u2588\u2588\u2588\u2588\u2588\u2588\u2588\u2588\u2588\u2588\u2588| 61kB 4.3MB/s ta 0:00:01\n\u001b[?25hCollecting cryptography>=1.9 (from pyOpenSSL>=16.2.0->watson_developer_cloud)\n  Downloading cryptography-1.9.tar.gz (409kB)\n\u001b[K    100% |\u2588\u2588\u2588\u2588\u2588\u2588\u2588\u2588\u2588\u2588\u2588\u2588\u2588\u2588\u2588\u2588\u2588\u2588\u2588\u2588\u2588\u2588\u2588\u2588\u2588\u2588\u2588\u2588\u2588\u2588\u2588\u2588| 419kB 2.5MB/s eta 0:00:01\n\u001b[?25hRequirement already satisfied: six>=1.5.2 in /usr/local/src/bluemix_jupyter_bundle.v49/notebook/lib/python2.7/site-packages (from pyOpenSSL>=16.2.0->watson_developer_cloud)\nCollecting idna>=2.1 (from cryptography>=1.9->pyOpenSSL>=16.2.0->watson_developer_cloud)\n  Downloading idna-2.5-py2.py3-none-any.whl (55kB)\n\u001b[K    100% |\u2588\u2588\u2588\u2588\u2588\u2588\u2588\u2588\u2588\u2588\u2588\u2588\u2588\u2588\u2588\u2588\u2588\u2588\u2588\u2588\u2588\u2588\u2588\u2588\u2588\u2588\u2588\u2588\u2588\u2588\u2588\u2588| 61kB 2.4MB/s eta 0:00:01\n\u001b[?25hCollecting asn1crypto>=0.21.0 (from cryptography>=1.9->pyOpenSSL>=16.2.0->watson_developer_cloud)\n  Downloading asn1crypto-0.22.0-py2.py3-none-any.whl (97kB)\n\u001b[K    100% |\u2588\u2588\u2588\u2588\u2588\u2588\u2588\u2588\u2588\u2588\u2588\u2588\u2588\u2588\u2588\u2588\u2588\u2588\u2588\u2588\u2588\u2588\u2588\u2588\u2588\u2588\u2588\u2588\u2588\u2588\u2588\u2588| 102kB 7.7MB/s ta 0:00:01\n\u001b[?25hRequirement already satisfied: enum34 in /usr/local/src/bluemix_jupyter_bundle.v49/notebook/lib/python2.7/site-packages (from cryptography>=1.9->pyOpenSSL>=16.2.0->watson_developer_cloud)\nCollecting ipaddress (from cryptography>=1.9->pyOpenSSL>=16.2.0->watson_developer_cloud)\n  Downloading ipaddress-1.0.18-py2-none-any.whl\nCollecting cffi>=1.7 (from cryptography>=1.9->pyOpenSSL>=16.2.0->watson_developer_cloud)\n  Downloading cffi-1.10.0-cp27-cp27m-manylinux1_x86_64.whl (394kB)\n\u001b[K    100% |\u2588\u2588\u2588\u2588\u2588\u2588\u2588\u2588\u2588\u2588\u2588\u2588\u2588\u2588\u2588\u2588\u2588\u2588\u2588\u2588\u2588\u2588\u2588\u2588\u2588\u2588\u2588\u2588\u2588\u2588\u2588\u2588| 399kB 2.7MB/s eta 0:00:01\n\u001b[?25hCollecting pycparser (from cffi>=1.7->cryptography>=1.9->pyOpenSSL>=16.2.0->watson_developer_cloud)\n  Downloading pycparser-2.18.tar.gz (245kB)\n\u001b[K    100% |\u2588\u2588\u2588\u2588\u2588\u2588\u2588\u2588\u2588\u2588\u2588\u2588\u2588\u2588\u2588\u2588\u2588\u2588\u2588\u2588\u2588\u2588\u2588\u2588\u2588\u2588\u2588\u2588\u2588\u2588\u2588\u2588| 256kB 2.1MB/s eta 0:00:01\n\u001b[?25hBuilding wheels for collected packages: watson-developer-cloud, cryptography, pycparser\n  Running setup.py bdist_wheel for watson-developer-cloud ... \u001b[?25ldone\n\u001b[?25h  Stored in directory: /gpfs/fs01/user/sedd-397919d2f5e128-3c618564d05f/.cache/pip/wheels/45/62/30/af4b6806d37b09b05a6bbf74b59039f98dce92f5d21cf554b4\n  Running setup.py bdist_wheel for cryptography ... \u001b[?25ldone\n\u001b[?25h  Stored in directory: /gpfs/fs01/user/sedd-397919d2f5e128-3c618564d05f/.cache/pip/wheels/ff/a5/ef/186bb4f6a89ef0bb8373bf53e5c9884b96722f0857bd3111b8\n  Running setup.py bdist_wheel for pycparser ... \u001b[?25ldone\n\u001b[?25h  Stored in directory: /gpfs/fs01/user/sedd-397919d2f5e128-3c618564d05f/.cache/pip/wheels/95/14/9a/5e7b9024459d2a6600aaa64e0ba485325aff7a9ac7489db1b6\nSuccessfully built watson-developer-cloud cryptography pycparser\nInstalling collected packages: pysolr, idna, asn1crypto, ipaddress, pycparser, cffi, cryptography, pyOpenSSL, watson-developer-cloud\nSuccessfully installed asn1crypto-0.22.0 cffi-1.10.0 cryptography-1.9 idna-2.5 ipaddress-1.0.18 pyOpenSSL-17.1.0 pycparser-2.18 pysolr-3.6.0 watson-developer-cloud-0.26.0\n"
                }
            ], 
            "metadata": {}
        }, 
        {
            "source": "import ibm_db\nfrom ibm_db import connect\nfrom ibm_db import active", 
            "cell_type": "code", 
            "execution_count": 20, 
            "outputs": [], 
            "metadata": {
                "collapsed": true
            }
        }, 
        {
            "source": "import json\nimport urllib2\nimport twitter\nfrom watson_developer_cloud import NaturalLanguageUnderstandingV1\nimport watson_developer_cloud.natural_language_understanding.features.v1 as \\\n    features\n    \nnatural_language_understanding = NaturalLanguageUnderstandingV1(\n        version='2017-02-27',\n        username='c17af570-56c7-4eb9-ac31-02bd00a59fcc',\n        password='in0gigAhn0td'\n        )\n\nckey = 'vk06P8Xe94hiiS5VLXK7uBU3A'\ncsecret = 'LmHjW9Lt0suw3pqgJwJzxUBpnkGaBrwvA3YEWqR9ttFO0PNTP9' \natoken = '86684623-aEc8fr5HIOHD873ii30s3Q8ZvdVXSqSxiHVPqa2NM' \nasecret = 't6M78lNaxywWyxMBrSrDaVlAxB96K5aVpMfZrGZoNKhI2'\nuserid = \"dash12581\" # User id \npassword = \"417b028d1d73\" # password\nhostname = \"dashdb-entry-yp-dal09-10.services.dal.bluemix.net\" # Hostname\nportnumber = \"50000\"\ndatabaseConnectionInfo = {\"Database name\":\"BLUDB\",\"User ID\":userid,\"Password\":password,\"Host name\":hostname,\"Port number\":portnumber}\nurl = 'DATABASE=%s;uid=%s;pwd=%s;hostname=%s;port=%s;' % (databaseConnectionInfo[\"Database name\"],databaseConnectionInfo[\"User ID\"],databaseConnectionInfo[\"Password\"],databaseConnectionInfo[\"Host name\"],databaseConnectionInfo[\"Port number\"])\n#print url\n\n\nDatabaseSchema = 'DASH'+userid[4:]\ntablename='POC'\nprint(\"connection is\"+str(active(connection)))\nprint DatabaseSchema\n\n\n\n\nauth = twitter.oauth.OAuth(atoken, asecret,ckey, csecret)\ntwitter_api = twitter.Twitter(auth=auth)\nsearch = twitter_api.search.tweets(q='Nippy milk',count=500,since_id='2014-06-12',lang='en')\nstatuses = search['statuses']\ncount=0\nfor _ in range(5):\n    print \"Length of statuses\", len(statuses)\n    try:\n        next_results = search['search_metadata']['next_results']\n    except KeyError, e: # No more results when next_results doesn't exist\n        break\n        \n    # Create a dictionary from next_results, which has the following form:\n    # ?max_id=313519052523986943&q=NCAA&include_entities=1\n    kwargs = dict([ kv.split('=') for kv in next_results[1:].split(\"&\") ])\n    \n    search = twitter_api.search.tweets(**kwargs)\n    statuses += search['statuses']\n#print statuses\n\nfor i in statuses:\n    count=count+1\n    #print count\n    tweet= i['text']\n    tweet=tweet.replace(';','').replace('-','').replace(\"'\",\"\").replace(\"/\",\"\").replace(\"&\",\"\")\n    date=i['created_at']\n    date=date[:10]+' 2017'\n    print date\n    #print tweet\n    try:\n        sentiment = natural_language_understanding.analyze(\n                text=tweet.encode('utf-8'),\n                features=[features.Sentiment()])\n        sen=sentiment['sentiment']['document']['label']\n        print sen\n    except:\n        sen='NA'\n        continue;\n    try:\n        location=i['user']['location']\n        location=location.replace(\"'\",\"\")\n        #print location\n    except:\n        location='NA'\n        continue;\n    \n        \n    #print tweet\n    #print location\n    Source='Twitter' \n    term='Nippy milk'\n    connection = ibm_db.pconnect(url, '', '')\n    insert_query = \"INSERT INTO \"+DatabaseSchema+\".\"+tablename+\" VALUES (\\'\"+Source+\"\\',\\'\"+tweet+\"\\',\\'\"+sen+\"\\',\\'\"+str(date)+\"\\',\\'\"+location+\"\\',\\'\"+term+\"\\')\"\n    #print insert_query\n    statement = ibm_db.exec_immediate(connection, insert_query)\n    ibm_db.free_stmt(statement)\nibm_db.close\n    #print sentiment\n", 
            "cell_type": "code", 
            "execution_count": 98, 
            "outputs": [
                {
                    "output_type": "stream", 
                    "name": "stdout", 
                    "text": "connection isTrue\nDASH12581\nLength of statuses 5\nTue Jul 04 2017\nnegative\nMon Jul 03 2017\nnegative\nThu Jun 29 2017\nneutral\nThu Jun 29 2017\nneutral\nThu Jun 29 2017\npositive\n"
                }, 
                {
                    "output_type": "execute_result", 
                    "metadata": {}, 
                    "data": {
                        "text/plain": "<function ibm_db.close>"
                    }, 
                    "execution_count": 98
                }
            ], 
            "metadata": {
                "scrolled": true
            }
        }, 
        {
            "source": "for i in search['statuses']:\n    count=count+1\n    print count\n    tweet= i['text']\n    location=i['location']\n    Source='Twitter'", 
            "cell_type": "code", 
            "execution_count": null, 
            "outputs": [], 
            "metadata": {
                "collapsed": true
            }
        }, 
        {
            "source": "userid = \"dash12581\" # User id \npassword = \"417b028d1d73\" # password\nhostname = \"dashdb-entry-yp-dal09-10.services.dal.bluemix.net\" # Hostname\nportnumber = \"50000\"\ndatabaseConnectionInfo = {\"Database name\":\"BLUDB\",\"User ID\":userid,\"Password\":password,\"Host name\":hostname,\"Port number\":portnumber}\nurl = 'DATABASE=%s;uid=%s;pwd=%s;hostname=%s;port=%s;' % (databaseConnectionInfo[\"Database name\"],databaseConnectionInfo[\"User ID\"],databaseConnectionInfo[\"Password\"],databaseConnectionInfo[\"Host name\"],databaseConnectionInfo[\"Port number\"])\n#print url\nconnection = ibm_db.pconnect(url, '', '')\nDatabaseSchema = 'DASH'+userid[4:]\ntablename='MYTABLE'\nprint(\"connection is\"+str(active(connection)))\nprint DatabaseSchema\ninsert_query = \"INSERT INTO \"+DatabaseSchema+\".\"+tablename+\" VALUES (DEFAULT,\\'\"+emailid+\"\\',\\'\"+password+\"\\',\\'\"+username+\"\\',\\'\"+str(dateofcreation)+\"\\')\"", 
            "cell_type": "code", 
            "execution_count": 39, 
            "outputs": [
                {
                    "output_type": "stream", 
                    "name": "stdout", 
                    "text": "connection isTrue\nDASH12581\n"
                }
            ], 
            "metadata": {}
        }, 
        {
            "source": "", 
            "cell_type": "code", 
            "execution_count": null, 
            "outputs": [], 
            "metadata": {
                "collapsed": true
            }
        }
    ], 
    "nbformat": 4, 
    "metadata": {
        "kernelspec": {
            "display_name": "Python 2 with Spark 2.0", 
            "name": "python2-spark20", 
            "language": "python"
        }, 
        "language_info": {
            "mimetype": "text/x-python", 
            "nbconvert_exporter": "python", 
            "version": "2.7.11", 
            "name": "python", 
            "pygments_lexer": "ipython2", 
            "file_extension": ".py", 
            "codemirror_mode": {
                "version": 2, 
                "name": "ipython"
            }
        }
    }
}