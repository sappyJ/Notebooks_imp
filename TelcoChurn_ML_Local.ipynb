{
    "nbformat_minor": 0, 
    "cells": [
        {
            "source": "### Predicting Customer Churn in Telco", 
            "cell_type": "markdown", 
            "metadata": {}
        }, 
        {
            "source": "In this notebook you will learn how to build a predictive model with Spark machine learning API (SparkML) and deploy it for scoring in Machine Learning (ML). \n\nThis notebook walks you through these steps:\n- Build a model with SparkML API\n- Save the model in the ML repository\n- Create a Deployment in ML (via UI)\n- Test the model (via UI)\n- Test the model (via REST API)", 
            "cell_type": "markdown", 
            "metadata": {}
        }, 
        {
            "source": "### Use Case", 
            "cell_type": "markdown", 
            "metadata": {}
        }, 
        {
            "source": "The analytics use case implemented in this notebook is telco churn. While it's a simple use case, it implements all steps from the CRISP-DM methodolody, which is the recommended best practice for implementing predictive analytics. \n![CRISP-DM](https://raw.githubusercontent.com/yfphoon/dsx_demo/master/crisp_dm.png)\n\nThe analytics process starts with defining the business problem and identifying the data that can be used to solve the problem. For Telco churn, we use demographic and historical transaction data. We also know which customers have churned, which is the critical information for building predictive models. In the next step, we use visual APIs for data understanding and complete some data preparation tasks. In a typical analytics project data preparation will include more steps (for example, formatting data or deriving new variables). \n\nOnce the data is ready, we can build a predictive model. In our example we are using the SparkML Random Forrest classification model. Classification is a statistical technique which assigns a \"class\" to each customer record (for our use case \"churn\" or \"no churn\"). Classification models use historical data to come up with the logic to predict \"class\", this process is called model training. After the model is created, it's usually evaluated using another data set. \n\nFinally, if the model's accuracy meets the expectations, it can be deployed for scoring. Scoring is the process of applying the model to a new set of data. For example, when we receive new transactional data, we can score the customer for the risk of churn.  \n\nWe also developed a sample Python Flask application to illustrate deployment: http://predictcustomerchurn.mybluemix.net/. This application implements the REST client call to the model.", 
            "cell_type": "markdown", 
            "metadata": {}
        }, 
        {
            "source": "### Working with Notebooks", 
            "cell_type": "markdown", 
            "metadata": {}
        }, 
        {
            "source": "If you are new to Notebooks, here's a quick overview of how to work in this environment.\n\n1. To run the notebook, it must be in the Edit mode. If you don't see the menu in the notebook, then it's not in the edit mode. Click on the pencil icon.\n2. The notebook has 2 types of cells - markdown (text) and code. \n3. Each cell with code can be executed independently or together (see options under the Cell menu). When working in this notebook, we will be running one cell at a time because we need to make code changes to some of the cells.\n4. To run the cell, position cursor in the code cell and click the Run (arrow) icon. The cell is running when you see the * next to it. Some cells have printable output.\n5. Work through this notebook by reading the instructions and executing code cell by cell. Some cells will require modifications before you run them. ", 
            "cell_type": "markdown", 
            "metadata": {}
        }, 
        {
            "source": "### Step 2: Load data ", 
            "cell_type": "markdown", 
            "metadata": {}
        }, 
        {
            "execution_count": null, 
            "cell_type": "code", 
            "source": "from pyspark.sql import SQLContext\n\n# Customer Information\ncustomer = SQLContext(sc).read.csv('../datasets/customer.csv', header='true', inferSchema='true')\n  \n#Churn information    \ncustomer_churn = SQLContext(sc).read.csv('../datasets/churn.csv', header='true',inferSchema='true')\n\ncustomer.take(5)", 
            "outputs": [], 
            "metadata": {
                "collapsed": false
            }
        }, 
        {
            "source": "If the first step ran successfully (you saw the output), then continue reviewing the notebook and running each code cell step by step. Note that not every cell has a visual output. The cell is still running if you see a * in the brackets next to the cell. \n\nIf the first step didn't finish successfully, check with the instructor. ", 
            "cell_type": "markdown", 
            "metadata": {}
        }, 
        {
            "source": "### Step 3: Merge Files", 
            "cell_type": "markdown", 
            "metadata": {}
        }, 
        {
            "execution_count": null, 
            "cell_type": "code", 
            "source": "data=customer.join(customer_churn,customer['ID']==customer_churn['ID']).select(customer['*'],customer_churn['CHURN'])", 
            "outputs": [], 
            "metadata": {
                "collapsed": false
            }
        }, 
        {
            "source": "### Step 4: Rename some columns\nThis step is to remove spaces from columns names, it's an example of data preparation that you may have to do before creating a model. ", 
            "cell_type": "markdown", 
            "metadata": {}
        }, 
        {
            "execution_count": null, 
            "cell_type": "code", 
            "source": "data = data.withColumnRenamed(\"Est Income\", \"EstIncome\").withColumnRenamed(\"Car Owner\",\"CarOwner\")\ndata.toPandas().head()", 
            "outputs": [], 
            "metadata": {
                "collapsed": false
            }
        }, 
        {
            "source": "### Step 5: Data understanding", 
            "cell_type": "markdown", 
            "metadata": {}
        }, 
        {
            "source": "Data preparation and data understanding are the most time-consuming tasks in the data mining process. The data scientist needs to review and evaluate the quality of data before modeling.\n\nVisualization is one of the ways to reivew data.\n\nThe Brunel Visualization Language is a highly succinct and novel language that defines interactive data visualizations based on tabular data. The language is well suited for both data scientists and business users. \nMore information about Brunel Visualization: https://github.com/Brunel-Visualization/Brunel/wiki\n\nTry Brunel visualization here: http://brunel.mybluemix.net/gallery_app/renderer", 
            "cell_type": "markdown", 
            "metadata": {
                "collapsed": true
            }
        }, 
        {
            "execution_count": null, 
            "cell_type": "code", 
            "source": "import brunel\ndf = data.toPandas()\n%brunel data('df') bar x(CHURN) y(EstIncome) mean(EstIncome) color(LocalBilltype) stack tooltip(EstIncome) | x(LongDistance) y(Usage) point color(Paymethod) tooltip(LongDistance, Usage) :: width=1100, height=400 ", 
            "outputs": [], 
            "metadata": {
                "collapsed": false
            }
        }, 
        {
            "source": "**PixieDust** is a Python Helper library for Spark IPython Notebooks. One of it's main features are visualizations. You'll notice that unlike other APIs which produce just output, PixieDust creates an **interactive UI** in which you can explore data.\n\nMore information about PixieDust: https://github.com/ibm-cds-labs/pixiedust?cm_mc_uid=78151411419314871783930&cm_mc_sid_50200000=1487962969", 
            "cell_type": "markdown", 
            "metadata": {}
        }, 
        {
            "execution_count": null, 
            "cell_type": "code", 
            "source": "from pixiedust.display import *\ndisplay(data)", 
            "outputs": [], 
            "metadata": {
                "pixiedust": {
                    "displayParams": {
                        "title": "Test", 
                        "chartsize": "50", 
                        "aggregation": "SUM", 
                        "rowCount": "500", 
                        "handlerId": "barChart", 
                        "valueFields": "Usage", 
                        "rendererId": "matplotlib", 
                        "keyFields": "Paymethod,International"
                    }
                }, 
                "collapsed": false
            }
        }, 
        {
            "source": "### Step 6: Build the Spark pipeline and the Random Forest model\n\"Pipeline\" is an API in SparkML that's used for building models.\nAdditional information on SparkML: https://spark.apache.org/docs/2.0.2/ml-guide.html", 
            "cell_type": "markdown", 
            "metadata": {}
        }, 
        {
            "execution_count": null, 
            "cell_type": "code", 
            "source": "from pyspark.ml.feature import OneHotEncoder, StringIndexer, VectorIndexer, IndexToString\nfrom pyspark.ml import Pipeline\nfrom pyspark.ml.feature import VectorAssembler\nfrom pyspark.ml.classification import RandomForestClassifier\n\n# Prepare string variables so that they can be used by the decision tree algorithm\n# StringIndexer encodes a string column of labels to a column of label indices\nSI1 = StringIndexer(inputCol='Gender', outputCol='GenderEncoded')\nSI2 = StringIndexer(inputCol='Status',outputCol='StatusEncoded')\nSI3 = StringIndexer(inputCol='CarOwner',outputCol='CarOwnerEncoded')\nSI4 = StringIndexer(inputCol='Paymethod',outputCol='PaymethodEncoded')\nSI5 = StringIndexer(inputCol='LocalBilltype',outputCol='LocalBilltypeEncoded')\nSI6 = StringIndexer(inputCol='LongDistanceBilltype',outputCol='LongDistanceBilltypeEncoded')\nlabelIndexer = StringIndexer(inputCol='CHURN', outputCol='label').fit(data)\n\n#Apply OneHotEncoder so categorical features aren't given numeric importance\nOH1 = OneHotEncoder(inputCol=\"GenderEncoded\", outputCol=\"GenderEncoded\"+\"classVec\")\nOH2 = OneHotEncoder(inputCol=\"StatusEncoded\", outputCol=\"StatusEncoded\"+\"classVec\")\nOH3 = OneHotEncoder(inputCol=\"CarOwnerEncoded\", outputCol=\"CarOwnerEncoded\"+\"classVec\")\nOH4 = OneHotEncoder(inputCol=\"PaymethodEncoded\", outputCol=\"PaymethodEncoded\"+\"classVec\")\nOH5 = OneHotEncoder(inputCol=\"LocalBilltypeEncoded\", outputCol=\"LocalBilltypeEncoded\"+\"classVec\")\nOH6 = OneHotEncoder(inputCol=\"LongDistanceBilltypeEncoded\", outputCol=\"LongDistanceBilltypeEncoded\"+\"classVec\")\n\n\n# Pipelines API requires that input variables are passed in  a vector\nassembler = VectorAssembler(inputCols=[\"GenderEncodedclassVec\", \"StatusEncodedclassVec\", \"CarOwnerEncodedclassVec\", \"PaymethodEncodedclassVec\", \"LocalBilltypeEncodedclassVec\", \\\n                                       \"LongDistanceBilltypeEncodedclassVec\", \"Children\", \"EstIncome\", \"Age\", \"LongDistance\", \"International\", \"Local\",\\\n                                      \"Dropped\",\"Usage\",\"RatePlan\"], outputCol=\"features\")", 
            "outputs": [], 
            "metadata": {
                "collapsed": false
            }
        }, 
        {
            "execution_count": null, 
            "cell_type": "code", 
            "source": "# instantiate the algorithm, take the default settings\nrf=RandomForestClassifier(labelCol=\"label\", featuresCol=\"features\")\n\n# Convert indexed labels back to original labels.\nlabelConverter = IndexToString(inputCol=\"prediction\", outputCol=\"predictedLabel\", labels=labelIndexer.labels)\n\npipeline = Pipeline(stages=[SI1,SI2,SI3,SI4,SI5,SI6,labelIndexer, OH1, OH2, OH3, OH4, OH5, OH6, assembler, rf, labelConverter])", 
            "outputs": [], 
            "metadata": {
                "collapsed": false
            }
        }, 
        {
            "execution_count": null, 
            "cell_type": "code", 
            "source": "# Split data into train and test datasets\ntrain, test = data.randomSplit([0.8,0.2], seed=6)\ntrain.cache()\ntest.cache()", 
            "outputs": [], 
            "metadata": {
                "collapsed": false
            }
        }, 
        {
            "execution_count": null, 
            "cell_type": "code", 
            "source": "# Build models\nmodel = pipeline.fit(train)", 
            "outputs": [], 
            "metadata": {
                "collapsed": false
            }
        }, 
        {
            "source": "### Step 7: Score the test data set", 
            "cell_type": "markdown", 
            "metadata": {
                "collapsed": true
            }
        }, 
        {
            "execution_count": null, 
            "cell_type": "code", 
            "source": "results = model.transform(test)\nresults=results.select(results[\"ID\"],results[\"CHURN\"],results[\"label\"],results[\"predictedLabel\"],results[\"prediction\"],results[\"probability\"])\nresults.toPandas().head(6)", 
            "outputs": [], 
            "metadata": {
                "collapsed": false
            }
        }, 
        {
            "source": "### Step 8: Model Evaluation ", 
            "cell_type": "markdown", 
            "metadata": {}
        }, 
        {
            "execution_count": null, 
            "cell_type": "code", 
            "source": "print 'Precision model1 = {:.2f}.'.format(results.filter(results.label == results.prediction).count() / float(results.count()))", 
            "outputs": [], 
            "metadata": {
                "collapsed": false
            }
        }, 
        {
            "execution_count": null, 
            "cell_type": "code", 
            "source": "from pyspark.ml.evaluation import BinaryClassificationEvaluator\n\n# Evaluate model\nevaluator = BinaryClassificationEvaluator(rawPredictionCol=\"prediction\", labelCol=\"label\", metricName=\"areaUnderROC\")\nprint 'Area under ROC curve = {:.2f}.'.format(evaluator.evaluate(results))", 
            "outputs": [], 
            "metadata": {
                "collapsed": false
            }
        }, 
        {
            "source": "We have finished building and testing a predictive model. The next step is to deploy it for real time scoring. ", 
            "cell_type": "markdown", 
            "metadata": {}
        }, 
        {
            "source": "### Step 9: Save Model in ML repository", 
            "cell_type": "markdown", 
            "metadata": {}
        }, 
        {
            "execution_count": null, 
            "cell_type": "code", 
            "source": "from repository.mlrepositoryclient import MLRepositoryClient\nfrom repository.mlrepositoryartifact import MLRepositoryArtifact", 
            "outputs": [], 
            "metadata": {
                "collapsed": true
            }
        }, 
        {
            "execution_count": null, 
            "cell_type": "code", 
            "source": "service_path = 'https://internal-nginx-svc.ibm-private-cloud.svc.cluster.local:12443'\nml_repository_client = MLRepositoryClient()", 
            "outputs": [], 
            "metadata": {
                "collapsed": true
            }
        }, 
        {
            "source": "Create the model artifact (abstraction layer).\n\n<b>Tip:</b> The MLRepositoryArtifact method expects a trained model object, training data, and a model name. (It is this model name that is displayed by the Watson Machine Learning service).\n", 
            "cell_type": "markdown", 
            "metadata": {}
        }, 
        {
            "execution_count": null, 
            "cell_type": "code", 
            "source": "model_artifact = MLRepositoryArtifact(model, training_data=train, name=\"Predict Customer Churn EL\")\n\n# Add author information for model\nmodel_artifact.meta.add(\"authorName\", \"Data Scientist\");", 
            "outputs": [], 
            "metadata": {
                "collapsed": true
            }
        }, 
        {
            "source": "Save pipeline and model artifacts to in Machine Learning repository:", 
            "cell_type": "markdown", 
            "metadata": {}
        }, 
        {
            "execution_count": null, 
            "cell_type": "code", 
            "source": "saved_model = ml_repository_client.models.save(model_artifact)", 
            "outputs": [], 
            "metadata": {
                "collapsed": false
            }
        }, 
        {
            "execution_count": null, 
            "cell_type": "code", 
            "source": "# Print the saved model properties\nprint \"modelType: \" + saved_model.meta.prop(\"modelType\")\nprint \"creationTime: \" + str(saved_model.meta.prop(\"creationTime\"))\nprint \"modelVersionHref: \" + saved_model.meta.prop(\"modelVersionHref\")\nprint \"label: \" + saved_model.meta.prop(\"label\")", 
            "outputs": [], 
            "metadata": {
                "collapsed": false
            }
        }, 
        {
            "source": "### Step 10:  Deploy and Test model with UI", 
            "cell_type": "markdown", 
            "metadata": {}
        }, 
        {
            "source": "1. Save the notebook and switch to the **Analytic Assets** tab of the project (hint: open with another tab in your browser). \n2. Under **Models**, find and click into your deployed model. Add an **Online deployment** and use the the **Test API** option to test the model. \n\nYou can use the following data for testing: ID=99, Gender=M, Status=S, Children=0, Est Income=60000, Car Owner=Y, Age=34, LongDistance=68, International=50, Local=100, Dropped=0, Paymethod=CC, LocalBilltype=Budget, LongDistanceBilltype=Intnl_discount, Usage=334, RatePlan=3", 
            "cell_type": "markdown", 
            "metadata": {
                "collapsed": false
            }
        }, 
        {
            "source": "The results of the test is displayed as follows:<br/>\n<img style=\"float: left;\" src=\"https://github.com/yfphoon/dsx_local/blob/master/images/Test_Model.png?raw=true\" alt=\"Test API\" width=900 />", 
            "cell_type": "markdown", 
            "metadata": {}
        }, 
        {
            "source": "### Step 11:  Test model with a REST API call (Optional)", 
            "cell_type": "markdown", 
            "metadata": {}
        }, 
        {
            "source": "This step is to demonstrate the you can make an external REST API call to test the model\n\n* In the Deployment Details, copy the scoring endpoint into your notepad, e.g. \nhttps://169.47.153.213/v2/scoring/online/dc0a0dce-f9af-4140-84af-b1eb7d92f0d5  (where 169.47.153.213 represents the master node IP)", 
            "cell_type": "markdown", 
            "metadata": {}
        }, 
        {
            "source": "* Retreive the __bearer token__ for accessing your deployed model with this command: <br/>\n`!curl -k -X GET https://<master node IP>/v2/identity/token -H \"username: joe\" -H \"password: joePassword\"`", 
            "cell_type": "markdown", 
            "metadata": {}
        }, 
        {
            "execution_count": null, 
            "cell_type": "code", 
            "source": "# insert your code here\n", 
            "outputs": [], 
            "metadata": {
                "collapsed": false
            }
        }, 
        {
            "source": "* copy the generated token into your notepad", 
            "cell_type": "markdown", 
            "metadata": {}
        }, 
        {
            "source": "* Create and execute this command to invoke the model remotely:\n<br/>\n<br/>\n`!curl -i -k -X POST <Scoring Endpoint> -d '{\"fields\": [\"Gender\",\"Status\",\"Children\",\"EstIncome\",\"CarOwner\",\"Age\",\"LongDistance\",\"International\",\"Local\",\"Dropped\",\"Paymethod\",\"LocalBilltype\",\"LongDistanceBilltype\",\"Usage\",\"RatePlan\"], \"records\": [[\"F\",\"S\",1.000000,38000.000000,\"N\",24.393333,23.560000,0.000000,206.080000,0.000000,\"CC\",\"Budget\",\"Intnl_discount\",229.640000,3.000000]]}' -H \"content-type: application/json\" -H \"authorization: Bearer <generate bearer token>\"`", 
            "cell_type": "markdown", 
            "metadata": {}
        }, 
        {
            "execution_count": null, 
            "cell_type": "code", 
            "source": "#insert your code here\n", 
            "outputs": [], 
            "metadata": {
                "collapsed": false
            }
        }, 
        {
            "source": "### Summary", 
            "cell_type": "markdown", 
            "metadata": {}
        }, 
        {
            "source": "You have finished working on this hands-on lab. In this notebook you created a model using SparkML API, deployed it in  Machine Learning service for online (real time) scoring and tested it using a test client. ", 
            "cell_type": "markdown", 
            "metadata": {}
        }, 
        {
            "source": "\nCreated by **Sidney Phoon** and **Elena Lowery**\n<br/>\nyfphoon@us.ibm.com\nelowery@us.ibm.com\n<br/>\nJuly 25, 2017", 
            "cell_type": "markdown", 
            "metadata": {}
        }
    ], 
    "nbformat": 4, 
    "metadata": {
        "kernelspec": {
            "display_name": "Python2 with DSX Spark", 
            "name": "python2", 
            "language": "python"
        }, 
        "language_info": {
            "mimetype": "text/x-python", 
            "nbconvert_exporter": "python", 
            "version": "2.7.13", 
            "name": "python", 
            "file_extension": ".py", 
            "pygments_lexer": "ipython2", 
            "codemirror_mode": {
                "version": 2, 
                "name": "ipython"
            }
        }
    }
}