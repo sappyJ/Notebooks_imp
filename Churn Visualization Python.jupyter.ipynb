{
    "nbformat_minor": 2, 
    "cells": [
        {
            "source": "# Churn Rate Trend", 
            "cell_type": "markdown", 
            "metadata": {}
        }, 
        {
            "source": "from io import StringIO\nimport dsx_core_utils\nimport requests\nimport os\nimport pandas as pd\nimport warnings\nwarnings.filterwarnings('ignore')", 
            "cell_type": "code", 
            "metadata": {}, 
            "outputs": [], 
            "execution_count": null
        }, 
        {
            "source": "# Insert churn rate visualization (churn_rate_visualization.csv) dataset here, as pandas dataframe\n\nimport os, pandas as pd\n# Add asset from file system\ndf_data_1 = pd.read_csv(os.environ['DSX_PROJECT_DIR']+'/datasets/churn_rate_visualization.csv')\ndf_data_1.head()", 
            "cell_type": "code", 
            "metadata": {}, 
            "outputs": [], 
            "execution_count": null
        }, 
        {
            "source": "import brunel\n\nchurnDataRateDF=df_data_1\n\n%brunel data('churnDataRateDF') x(QUARTER_YEAR) y(CHURN_RATE) bar tooltip(#all) axes(x:'Time', y:'Churn Rate':grid) sort(YEAR:ascending) :: width=800, height=500", 
            "cell_type": "code", 
            "metadata": {}, 
            "outputs": [], 
            "execution_count": null
        }, 
        {
            "source": "# Insert customer summary visualization (cust_summary_visualization.csv) dataset here, as pandas dataframe \n\ndf_data_2 = pd.read_csv(os.environ['DSX_PROJECT_DIR']+'/datasets/cust_summary_visualization.csv')\ndf_data_2.head()", 
            "cell_type": "code", 
            "metadata": {}, 
            "outputs": [], 
            "execution_count": null
        }, 
        {
            "source": "import numpy\n\nchurnData = df_data_2\n\nchurnData['mean_income'] = churnData['INCOME']\nchurnData_State_Income = churnData[['STATE','mean_income']]\ngroupedByState = churnData_State_Income.groupby(\"STATE\").agg(numpy.mean)\ngroupedByState.head(5)", 
            "cell_type": "code", 
            "metadata": {}, 
            "outputs": [], 
            "execution_count": null
        }, 
        {
            "source": "# Income by state", 
            "cell_type": "markdown", 
            "metadata": {}
        }, 
        {
            "source": "%brunel data('groupedByState') map key(STATE) x(STATE) color(mean_income) label(STATE) tooltip(#all) :: width=800, height=500", 
            "cell_type": "code", 
            "metadata": {}, 
            "outputs": [], 
            "execution_count": null
        }, 
        {
            "source": "# Distribution by churn", 
            "cell_type": "markdown", 
            "metadata": {}
        }, 
        {
            "source": "%brunel data('churnData') x(AGE) y(#count:linear) color(CHURN_LABEL) bin(AGE) interaction(select) stack bar tooltip(#all) filter(CHURN_LABEL) legends(none) | x(AVG_DAILY_TX) y(#count:linear) color(CHURN_LABEL) opacity(#selection) bin(AVG_DAILY_TX) stack bar tooltip(#all) axes(x:10:'AVG DAILY TX', y)| x(AVG_TX_AMT) y(#count:linear) color(CHURN_LABEL) opacity(#selection) bin(AVG_TX_AMT) stack bar tooltip(#all)  axes(y) legends(none) | x(INCOME) y(#count:linear) color(CHURN_LABEL) opacity(#selection) bin(INCOME) stack bar tooltip(#all) tooltip(#all) axes(y) legends(none) :: width=800, height=600", 
            "cell_type": "code", 
            "metadata": {}, 
            "outputs": [], 
            "execution_count": null
        }, 
        {
            "source": "%brunel data('churnData') x(SEX) y(#count:linear) color(CHURN_LABEL) stack bar tooltip(#all) sort(SEX) interaction(select) filter(CHURN_LABEL) axes(x:'GENDER', y) legends(none) | x(EDUCATION_GROUP) y(#count:linear) color(CHURN_LABEL) stack bar tooltip(#all) sort(#count) opacity(#selection)  axes(x:'EDUCATION', y)  | x(ACTIVITY) y(#count:linear) color(CHURN_LABEL) stack bar tooltip(#all) sort(ACTIVITY) opacity(#selection) legends(none) :: width=800, height=600", 
            "cell_type": "code", 
            "metadata": {}, 
            "outputs": [], 
            "execution_count": null
        }, 
        {
            "source": "churnData['mean_churn'] = churnData['CHURN']\nchurnData_State_Churn = churnData[['STATE','mean_churn']]\ngroupedchurnByState = churnData_State_Churn.groupby('STATE').agg(numpy.mean)\ngroupedchurnByState.head(5)", 
            "cell_type": "code", 
            "metadata": {}, 
            "outputs": [], 
            "execution_count": null
        }, 
        {
            "source": "%brunel data('groupedchurnByState') map key(STATE) x(STATE) color(mean_churn) label(STATE) tooltip(#all) :: width=800, height=500", 
            "cell_type": "code", 
            "metadata": {}, 
            "outputs": [], 
            "execution_count": null
        }, 
        {
            "source": "Developed/Updated by Aleksandr Petrov, Tim Bohn, Matt Walli, Anup Nair Data Science Elite Team, IBM Analytics", 
            "cell_type": "markdown", 
            "metadata": {}
        }
    ], 
    "metadata": {
        "kernelspec": {
            "display_name": "Python 3.5 with Spark", 
            "name": "python3", 
            "language": "python3"
        }, 
        "language_info": {
            "mimetype": "text/x-python", 
            "nbconvert_exporter": "python", 
            "version": "2.7.13", 
            "name": "python", 
            "file_extension": ".py", 
            "pygments_lexer": "ipython2", 
            "codemirror_mode": {
                "version": 2, 
                "name": "ipython"
            }
        }, 
        "anaconda-cloud": {}
    }, 
    "nbformat": 4
}