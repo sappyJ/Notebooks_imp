{
    "nbformat_minor": 1, 
    "cells": [
        {
            "source": "import matplotlib.pyplot as plt\nimport seaborn as sns\nimport numpy as np\nfrom sklearn.metrics import *\n\n%matplotlib inline", 
            "cell_type": "code", 
            "execution_count": 7, 
            "outputs": [], 
            "metadata": {
                "collapsed": true
            }
        }, 
        {
            "source": "## File Writing", 
            "cell_type": "markdown", 
            "metadata": {}
        }, 
        {
            "source": "from io import BytesIO  \nimport requests  \nimport json  \nimport pandas as pd\n\ndef put_file(credentials, local_file_name):  \n    \"\"\"This functions returns a StringIO object containing\n    the file content from Bluemix Object Storage V3.\"\"\"\n    f = open(local_file_name,'r')\n    my_data = f.read()\n    url1 = ''.join(['https://identity.open.softlayer.com', '/v3/auth/tokens'])\n    data = {'auth': {'identity': {'methods': ['password'],\n            'password': {'user': {'name': credentials['username'],'domain': {'id': credentials['domain_id']},\n            'password': credentials['password']}}}}}\n    headers1 = {'Content-Type': 'application/json'}\n    resp1 = requests.post(url=url1, data=json.dumps(data), headers=headers1)\n    resp1_body = resp1.json()\n    for e1 in resp1_body['token']['catalog']:\n        if(e1['type']=='object-store'):\n            for e2 in e1['endpoints']:\n                        if(e2['interface']=='public'and e2['region']=='dallas'):\n                            url2 = ''.join([e2['url'],'/', credentials['container'], '/', local_file_name])\n    s_subject_token = resp1.headers['x-subject-token']\n    headers2 = {'X-Auth-Token': s_subject_token, 'accept': 'application/json'}\n    resp2 = requests.put(url=url2, headers=headers2, data = my_data )\n    print resp2", 
            "cell_type": "code", 
            "execution_count": 8, 
            "outputs": [], 
            "metadata": {
                "collapsed": true
            }
        }, 
        {
            "source": "\n# @hidden_cell\nsatha_credentials = {\n  'auth_url':'https://identity.open.softlayer.com',\n  'project':'object_storage_b3d15058_4aa1_42a1_975f_62c1c8b1699a',\n  'project_id':'1e25eccc8cec40699e74914679c79593',\n  'region':'dallas',\n  'user_id':'f909479c2549457cb3fc79a7445beeff',\n  'domain_id':'0592036926cf47bf87e889ec75d0d38b',\n  'domain_name':'1154437',\n  'username':'member_e28904fb9993787d907536191c825c593c36c601',\n  'password':\"\"\"W-ucS.1Ge_fr.0b(\"\"\",\n  'container':'201710kbankibm',\n  'tenantId':'undefined',\n  'filename':'cat_acronym.csv'\n}\n", 
            "cell_type": "code", 
            "execution_count": 9, 
            "outputs": [], 
            "metadata": {
                "collapsed": true
            }
        }, 
        {
            "source": "## Load data", 
            "cell_type": "markdown", 
            "metadata": {}
        }, 
        {
            "source": "\nfrom io import StringIO\nimport requests\nimport json\nimport pandas as pd\n\n# @hidden_cell\n# This function accesses a file in your Object Storage. The definition contains your credentials.\n# You might want to remove those credentials before you share your notebook.\ndef get_object_storage_file_with_credentials_b3d150584aa142a1975f62c1c8b1699a(container, filename):\n    \"\"\"This functions returns a StringIO object containing\n    the file content from Bluemix Object Storage.\"\"\"\n\n    url1 = ''.join(['https://identity.open.softlayer.com', '/v3/auth/tokens'])\n    data = {'auth': {'identity': {'methods': ['password'],\n            'password': {'user': {'name': 'member_e28904fb9993787d907536191c825c593c36c601','domain': {'id': '0592036926cf47bf87e889ec75d0d38b'},\n            'password': 'W-ucS.1Ge_fr.0b('}}}}}\n    headers1 = {'Content-Type': 'application/json'}\n    resp1 = requests.post(url=url1, data=json.dumps(data), headers=headers1)\n    resp1_body = resp1.json()\n    for e1 in resp1_body['token']['catalog']:\n        if(e1['type']=='object-store'):\n            for e2 in e1['endpoints']:\n                        if(e2['interface']=='public'and e2['region']=='dallas'):\n                            url2 = ''.join([e2['url'],'/', container, '/', filename])\n    s_subject_token = resp1.headers['x-subject-token']\n    headers2 = {'X-Auth-Token': s_subject_token, 'accept': 'application/json'}\n    resp2 = requests.get(url=url2, headers=headers2)\n    return StringIO(resp2.text)\n\ncc_info = pd.read_csv(get_object_storage_file_with_credentials_b3d150584aa142a1975f62c1c8b1699a('201710kbankibm', 'cc_info.csv'))\ncc_info.head()\n", 
            "cell_type": "code", 
            "execution_count": 10, 
            "outputs": [
                {
                    "output_type": "execute_result", 
                    "data": {
                        "text/html": "<div>\n<table border=\"1\" class=\"dataframe\">\n  <thead>\n    <tr style=\"text-align: right;\">\n      <th></th>\n      <th>card_no</th>\n      <th>card_type</th>\n      <th>opn_dt</th>\n      <th>exp_dt</th>\n      <th>cr_lmt_amt</th>\n      <th>prev_cr_lmt_amt</th>\n      <th>main_zip_cd</th>\n      <th>cr_line_amt</th>\n      <th>incm_amt</th>\n      <th>brth_estb_yr</th>\n    </tr>\n  </thead>\n  <tbody>\n    <tr>\n      <th>0</th>\n      <td>4410123456000001</td>\n      <td>visa</td>\n      <td>1997-10-14</td>\n      <td>1017</td>\n      <td>50000</td>\n      <td>0</td>\n      <td>73120.0</td>\n      <td>50000</td>\n      <td>21000</td>\n      <td>1953.0</td>\n    </tr>\n    <tr>\n      <th>1</th>\n      <td>4410123456000002</td>\n      <td>master</td>\n      <td>2010-06-29</td>\n      <td>620</td>\n      <td>146000</td>\n      <td>0</td>\n      <td>43000.0</td>\n      <td>146000</td>\n      <td>72000</td>\n      <td>1965.0</td>\n    </tr>\n    <tr>\n      <th>2</th>\n      <td>4410123456000003</td>\n      <td>visa</td>\n      <td>2014-06-18</td>\n      <td>619</td>\n      <td>22000</td>\n      <td>0</td>\n      <td>23000.0</td>\n      <td>22000</td>\n      <td>20000</td>\n      <td>1978.0</td>\n    </tr>\n    <tr>\n      <th>3</th>\n      <td>4410123456000004</td>\n      <td>visa</td>\n      <td>2014-11-03</td>\n      <td>1119</td>\n      <td>1000000</td>\n      <td>0</td>\n      <td>10200.0</td>\n      <td>2141000</td>\n      <td>1800000</td>\n      <td>1955.0</td>\n    </tr>\n    <tr>\n      <th>4</th>\n      <td>4410123456000005</td>\n      <td>visa</td>\n      <td>2014-04-10</td>\n      <td>419</td>\n      <td>80000</td>\n      <td>0</td>\n      <td>57160.0</td>\n      <td>80000</td>\n      <td>32000</td>\n      <td>1969.0</td>\n    </tr>\n  </tbody>\n</table>\n</div>", 
                        "text/plain": "            card_no card_type      opn_dt  exp_dt  cr_lmt_amt  \\\n0  4410123456000001      visa  1997-10-14    1017       50000   \n1  4410123456000002    master  2010-06-29     620      146000   \n2  4410123456000003      visa  2014-06-18     619       22000   \n3  4410123456000004      visa  2014-11-03    1119     1000000   \n4  4410123456000005      visa  2014-04-10     419       80000   \n\n   prev_cr_lmt_amt  main_zip_cd  cr_line_amt  incm_amt  brth_estb_yr  \n0                0      73120.0        50000     21000        1953.0  \n1                0      43000.0       146000     72000        1965.0  \n2                0      23000.0        22000     20000        1978.0  \n3                0      10200.0      2141000   1800000        1955.0  \n4                0      57160.0        80000     32000        1969.0  "
                    }, 
                    "execution_count": 10, 
                    "metadata": {}
                }
            ], 
            "metadata": {
                "scrolled": true
            }
        }, 
        {
            "source": "\nanswer = pd.read_csv(get_object_storage_file_with_credentials_b3d150584aa142a1975f62c1c8b1699a('201710kbankibm', 'answer.csv'))\nanswer.head()\n", 
            "cell_type": "code", 
            "execution_count": 11, 
            "outputs": [
                {
                    "output_type": "execute_result", 
                    "data": {
                        "text/html": "<div>\n<table border=\"1\" class=\"dataframe\">\n  <thead>\n    <tr style=\"text-align: right;\">\n      <th></th>\n      <th>Automobiles and Vehicles-freq</th>\n      <th>Clothing Stores-freq</th>\n      <th>Service Providers-freq</th>\n      <th>Transportation-freq</th>\n      <th>Utilities-freq</th>\n      <th>Automobiles and Vehicles-sum</th>\n      <th>Clothing Stores-sum</th>\n      <th>Service Providers-sum</th>\n      <th>Transportation-sum</th>\n      <th>Utilities-sum</th>\n    </tr>\n  </thead>\n  <tbody>\n    <tr>\n      <th>0</th>\n      <td>0</td>\n      <td>0</td>\n      <td>0</td>\n      <td>0</td>\n      <td>0</td>\n      <td>0.0</td>\n      <td>0.0</td>\n      <td>0.0</td>\n      <td>0.0</td>\n      <td>0.0</td>\n    </tr>\n    <tr>\n      <th>1</th>\n      <td>0</td>\n      <td>0</td>\n      <td>1</td>\n      <td>0</td>\n      <td>0</td>\n      <td>0.0</td>\n      <td>0.0</td>\n      <td>1580.0</td>\n      <td>0.0</td>\n      <td>0.0</td>\n    </tr>\n    <tr>\n      <th>2</th>\n      <td>0</td>\n      <td>0</td>\n      <td>0</td>\n      <td>0</td>\n      <td>0</td>\n      <td>0.0</td>\n      <td>0.0</td>\n      <td>0.0</td>\n      <td>0.0</td>\n      <td>0.0</td>\n    </tr>\n    <tr>\n      <th>3</th>\n      <td>0</td>\n      <td>0</td>\n      <td>0</td>\n      <td>0</td>\n      <td>0</td>\n      <td>0.0</td>\n      <td>0.0</td>\n      <td>0.0</td>\n      <td>0.0</td>\n      <td>0.0</td>\n    </tr>\n    <tr>\n      <th>4</th>\n      <td>0</td>\n      <td>0</td>\n      <td>0</td>\n      <td>1</td>\n      <td>0</td>\n      <td>0.0</td>\n      <td>0.0</td>\n      <td>0.0</td>\n      <td>780.0</td>\n      <td>0.0</td>\n    </tr>\n  </tbody>\n</table>\n</div>", 
                        "text/plain": "   Automobiles and Vehicles-freq  Clothing Stores-freq  \\\n0                              0                     0   \n1                              0                     0   \n2                              0                     0   \n3                              0                     0   \n4                              0                     0   \n\n   Service Providers-freq  Transportation-freq  Utilities-freq  \\\n0                       0                    0               0   \n1                       1                    0               0   \n2                       0                    0               0   \n3                       0                    0               0   \n4                       0                    1               0   \n\n   Automobiles and Vehicles-sum  Clothing Stores-sum  Service Providers-sum  \\\n0                           0.0                  0.0                    0.0   \n1                           0.0                  0.0                 1580.0   \n2                           0.0                  0.0                    0.0   \n3                           0.0                  0.0                    0.0   \n4                           0.0                  0.0                    0.0   \n\n   Transportation-sum  Utilities-sum  \n0                 0.0            0.0  \n1                 0.0            0.0  \n2                 0.0            0.0  \n3                 0.0            0.0  \n4               780.0            0.0  "
                    }, 
                    "execution_count": 11, 
                    "metadata": {}
                }
            ], 
            "metadata": {}
        }, 
        {
            "source": "\ncc_log = pd.read_csv(get_object_storage_file_with_credentials_b3d150584aa142a1975f62c1c8b1699a('201710kbankibm', 'cc_log.csv'))\ncc_log.head()\n", 
            "cell_type": "code", 
            "execution_count": 12, 
            "outputs": [
                {
                    "output_type": "execute_result", 
                    "data": {
                        "text/html": "<div>\n<table border=\"1\" class=\"dataframe\">\n  <thead>\n    <tr style=\"text-align: right;\">\n      <th></th>\n      <th>card_no</th>\n      <th>txn_dt</th>\n      <th>txn_tm</th>\n      <th>bill_amt</th>\n      <th>card_acpt_cty</th>\n      <th>mrch_tp_cd</th>\n      <th>card_type</th>\n    </tr>\n  </thead>\n  <tbody>\n    <tr>\n      <th>0</th>\n      <td>4410123456098153</td>\n      <td>2017-03-21T00:00:00.000+07:00</td>\n      <td>10:22:19</td>\n      <td>5660</td>\n      <td>TH</td>\n      <td>4722</td>\n      <td>visa</td>\n    </tr>\n    <tr>\n      <th>1</th>\n      <td>4410123456018545</td>\n      <td>2017-03-21T00:00:00.000+07:00</td>\n      <td>23:30:43</td>\n      <td>100</td>\n      <td>US</td>\n      <td>5818</td>\n      <td>visa</td>\n    </tr>\n    <tr>\n      <th>2</th>\n      <td>4410123456085556</td>\n      <td>2017-03-21T00:00:00.000+07:00</td>\n      <td>07:32:54</td>\n      <td>1540</td>\n      <td>TH</td>\n      <td>6300</td>\n      <td>visa</td>\n    </tr>\n    <tr>\n      <th>3</th>\n      <td>4410123456047294</td>\n      <td>2017-03-21T00:00:00.000+07:00</td>\n      <td>05:16:20</td>\n      <td>1500</td>\n      <td>TH</td>\n      <td>5541</td>\n      <td>visa</td>\n    </tr>\n    <tr>\n      <th>4</th>\n      <td>4410123456074332</td>\n      <td>2017-03-21T00:00:00.000+07:00</td>\n      <td>13:18:56</td>\n      <td>680</td>\n      <td>TH</td>\n      <td>5812</td>\n      <td>visa</td>\n    </tr>\n  </tbody>\n</table>\n</div>", 
                        "text/plain": "            card_no                         txn_dt    txn_tm  bill_amt  \\\n0  4410123456098153  2017-03-21T00:00:00.000+07:00  10:22:19      5660   \n1  4410123456018545  2017-03-21T00:00:00.000+07:00  23:30:43       100   \n2  4410123456085556  2017-03-21T00:00:00.000+07:00  07:32:54      1540   \n3  4410123456047294  2017-03-21T00:00:00.000+07:00  05:16:20      1500   \n4  4410123456074332  2017-03-21T00:00:00.000+07:00  13:18:56       680   \n\n  card_acpt_cty  mrch_tp_cd card_type  \n0            TH        4722      visa  \n1            US        5818      visa  \n2            TH        6300      visa  \n3            TH        5541      visa  \n4            TH        5812      visa  "
                    }, 
                    "execution_count": 12, 
                    "metadata": {}
                }
            ], 
            "metadata": {}
        }, 
        {
            "source": "\ncc_cat = pd.read_csv(get_object_storage_file_with_credentials_b3d150584aa142a1975f62c1c8b1699a('201710kbankibm', 'Final_categories.csv'))\ncc_cat = cc_cat.rename(str,{'Categories':'Category'})\ncc_cat.head()\n", 
            "cell_type": "code", 
            "execution_count": 13, 
            "outputs": [
                {
                    "output_type": "execute_result", 
                    "data": {
                        "text/html": "<div>\n<table border=\"1\" class=\"dataframe\">\n  <thead>\n    <tr style=\"text-align: right;\">\n      <th></th>\n      <th>Category</th>\n      <th>MCC</th>\n    </tr>\n  </thead>\n  <tbody>\n    <tr>\n      <th>0</th>\n      <td>Airlines</td>\n      <td>3000</td>\n    </tr>\n    <tr>\n      <th>1</th>\n      <td>Airlines</td>\n      <td>3001</td>\n    </tr>\n    <tr>\n      <th>2</th>\n      <td>Airlines</td>\n      <td>3002</td>\n    </tr>\n    <tr>\n      <th>3</th>\n      <td>Airlines</td>\n      <td>3003</td>\n    </tr>\n    <tr>\n      <th>4</th>\n      <td>Airlines</td>\n      <td>3004</td>\n    </tr>\n  </tbody>\n</table>\n</div>", 
                        "text/plain": "   Category   MCC\n0  Airlines  3000\n1  Airlines  3001\n2  Airlines  3002\n3  Airlines  3003\n4  Airlines  3004"
                    }, 
                    "execution_count": 13, 
                    "metadata": {}
                }
            ], 
            "metadata": {}
        }, 
        {
            "source": "\n# cc_cat = pd.read_csv(get_object_storage_file_with_credentials_b3d150584aa142a1975f62c1c8b1699a('201710kbankibm', 'final_cat_acronym.csv'),\n#                         sep=':')\n\n# cc_cat.reset_index(inplace=True)\n# cc_cat = cc_cat.rename(index=str, columns={'index':'MCC','MCC,Acronym':'Category'})\n# cc_cat.head()\n\n", 
            "cell_type": "code", 
            "execution_count": 14, 
            "outputs": [], 
            "metadata": {
                "collapsed": true
            }
        }, 
        {
            "source": "## Change data types", 
            "cell_type": "markdown", 
            "metadata": {}
        }, 
        {
            "source": "cc_log['txn_dt'] = pd.to_datetime(cc_log['txn_dt'])", 
            "cell_type": "code", 
            "execution_count": 15, 
            "outputs": [], 
            "metadata": {
                "collapsed": true
            }
        }, 
        {
            "source": "## Joining data", 
            "cell_type": "markdown", 
            "metadata": {}
        }, 
        {
            "source": "cc_log = pd.merge(cc_log, cc_cat, how='left', left_on='mrch_tp_cd', right_on='MCC')", 
            "cell_type": "code", 
            "execution_count": 16, 
            "outputs": [], 
            "metadata": {
                "collapsed": true
            }
        }, 
        {
            "source": "cc_log['Category'] = cc_log['Category'].fillna('Others')", 
            "cell_type": "code", 
            "execution_count": 17, 
            "outputs": [], 
            "metadata": {
                "collapsed": true
            }
        }, 
        {
            "source": "cc_log = cc_log.drop(['mrch_tp_cd'], axis=1)", 
            "cell_type": "code", 
            "execution_count": 18, 
            "outputs": [], 
            "metadata": {
                "collapsed": true
            }
        }, 
        {
            "source": "## Get mock answer (2017/06)", 
            "cell_type": "markdown", 
            "metadata": {}
        }, 
        {
            "source": "def oneHotAgg(x):\n    temp = {}\n    for cat in ['Automobiles and Vehicles', 'Clothing Stores', 'Service Providers', 'Transportation', 'Utilities']:\n        temp[cat + '-freq'] = (x.loc[x.Category == cat, 'bill_amt']).count()\n        temp[cat + '-sum'] = (x.loc[x.Category == cat,'bill_amt']).sum()\n    return pd.Series(temp)\n\ndef generate_answer(cc_log, year=2017, month=1):\n    cc_answer_pattern = pd.DataFrame({\n    'card_no': cc_info['card_no'],\n    'Automobiles and Vehicles-freq': np.zeros(cc_info['card_no'].shape[0]),\n    'Clothing Stores-freq': np.zeros(cc_info['card_no'].shape[0]),\n    'Service Providers-freq': np.zeros(cc_info['card_no'].shape[0]),\n    'Transportation-freq': np.zeros(cc_info['card_no'].shape[0]),\n    'Utilities-freq': np.zeros(cc_info['card_no'].shape[0]),\n    'Automobiles and Vehicles-sum': np.zeros(cc_info['card_no'].shape[0]),\n    'Clothing Stores-sum': np.zeros(cc_info['card_no'].shape[0]),\n    'Service Providers-sum': np.zeros(cc_info['card_no'].shape[0]),\n    'Transportation-sum': np.zeros(cc_info['card_no'].shape[0]),\n    'Utilities-sum': np.zeros(cc_info['card_no'].shape[0])})\n    cc_log_ans = cc_log.loc[(cc_log['txn_dt'].apply(lambda x:x.month) == month) & \n                                (cc_log['txn_dt'].apply(lambda x:x.year) == year), :]\n    cc_answer = cc_log_ans.groupby('card_no').apply(oneHotAgg).reset_index()\n    \n    tmp = pd.merge(cc_answer_pattern, cc_answer, how='left', on='card_no').fillna(0)\n    \n    for a in [x+y for x in ['Automobiles and Vehicles', 'Clothing Stores', 'Service Providers', 'Transportation', 'Utilities']\n            for y in ['-freq', '-sum']]:\n        tmp[a] = tmp[a + '_x'] + tmp[a + '_y']\n        tmp = tmp.drop([a + '_x', a + '_y'], axis=1)\n\n    return tmp\n", 
            "cell_type": "code", 
            "execution_count": 19, 
            "outputs": [], 
            "metadata": {
                "collapsed": true
            }
        }, 
        {
            "source": "cc_answer_201701 = generate_answer(cc_log, year=2017, month=1)", 
            "cell_type": "code", 
            "execution_count": null, 
            "outputs": [], 
            "metadata": {
                "collapsed": true
            }
        }, 
        {
            "source": "cc_answer_201701.to_csv('2017-01-answer.csv', index=False)\nput_file(satha_credentials, '2017-01-answer.csv')", 
            "cell_type": "code", 
            "execution_count": 20, 
            "outputs": [
                {
                    "output_type": "stream", 
                    "name": "stdout", 
                    "text": "<Response [201]>\n"
                }
            ], 
            "metadata": {}
        }, 
        {
            "source": "cc_answer_201701.head()", 
            "cell_type": "code", 
            "execution_count": 22, 
            "outputs": [
                {
                    "output_type": "execute_result", 
                    "data": {
                        "text/html": "<div>\n<table border=\"1\" class=\"dataframe\">\n  <thead>\n    <tr style=\"text-align: right;\">\n      <th></th>\n      <th>card_no</th>\n      <th>Automobiles and Vehicles-freq</th>\n      <th>Automobiles and Vehicles-sum</th>\n      <th>Clothing Stores-freq</th>\n      <th>Clothing Stores-sum</th>\n      <th>Service Providers-freq</th>\n      <th>Service Providers-sum</th>\n      <th>Transportation-freq</th>\n      <th>Transportation-sum</th>\n      <th>Utilities-freq</th>\n      <th>Utilities-sum</th>\n    </tr>\n  </thead>\n  <tbody>\n    <tr>\n      <th>0</th>\n      <td>4410123456000001</td>\n      <td>0.0</td>\n      <td>0.0</td>\n      <td>0.0</td>\n      <td>0.0</td>\n      <td>0.0</td>\n      <td>0.0</td>\n      <td>0.0</td>\n      <td>0.0</td>\n      <td>0.0</td>\n      <td>0.0</td>\n    </tr>\n    <tr>\n      <th>1</th>\n      <td>4410123456000002</td>\n      <td>0.0</td>\n      <td>0.0</td>\n      <td>0.0</td>\n      <td>0.0</td>\n      <td>0.0</td>\n      <td>0.0</td>\n      <td>0.0</td>\n      <td>0.0</td>\n      <td>0.0</td>\n      <td>0.0</td>\n    </tr>\n    <tr>\n      <th>2</th>\n      <td>4410123456000003</td>\n      <td>2.0</td>\n      <td>3580.0</td>\n      <td>0.0</td>\n      <td>0.0</td>\n      <td>0.0</td>\n      <td>0.0</td>\n      <td>0.0</td>\n      <td>0.0</td>\n      <td>0.0</td>\n      <td>0.0</td>\n    </tr>\n    <tr>\n      <th>3</th>\n      <td>4410123456000004</td>\n      <td>0.0</td>\n      <td>0.0</td>\n      <td>0.0</td>\n      <td>0.0</td>\n      <td>0.0</td>\n      <td>0.0</td>\n      <td>0.0</td>\n      <td>0.0</td>\n      <td>0.0</td>\n      <td>0.0</td>\n    </tr>\n    <tr>\n      <th>4</th>\n      <td>4410123456000005</td>\n      <td>4.0</td>\n      <td>3040.0</td>\n      <td>0.0</td>\n      <td>0.0</td>\n      <td>0.0</td>\n      <td>0.0</td>\n      <td>0.0</td>\n      <td>0.0</td>\n      <td>0.0</td>\n      <td>0.0</td>\n    </tr>\n  </tbody>\n</table>\n</div>", 
                        "text/plain": "            card_no  Automobiles and Vehicles-freq  \\\n0  4410123456000001                            0.0   \n1  4410123456000002                            0.0   \n2  4410123456000003                            2.0   \n3  4410123456000004                            0.0   \n4  4410123456000005                            4.0   \n\n   Automobiles and Vehicles-sum  Clothing Stores-freq  Clothing Stores-sum  \\\n0                           0.0                   0.0                  0.0   \n1                           0.0                   0.0                  0.0   \n2                        3580.0                   0.0                  0.0   \n3                           0.0                   0.0                  0.0   \n4                        3040.0                   0.0                  0.0   \n\n   Service Providers-freq  Service Providers-sum  Transportation-freq  \\\n0                     0.0                    0.0                  0.0   \n1                     0.0                    0.0                  0.0   \n2                     0.0                    0.0                  0.0   \n3                     0.0                    0.0                  0.0   \n4                     0.0                    0.0                  0.0   \n\n   Transportation-sum  Utilities-freq  Utilities-sum  \n0                 0.0             0.0            0.0  \n1                 0.0             0.0            0.0  \n2                 0.0             0.0            0.0  \n3                 0.0             0.0            0.0  \n4                 0.0             0.0            0.0  "
                    }, 
                    "execution_count": 22, 
                    "metadata": {}
                }
            ], 
            "metadata": {}
        }, 
        {
            "source": "# Mock Answer (2016/12)", 
            "cell_type": "markdown", 
            "metadata": {}
        }, 
        {
            "source": "cc_answer_201612 = generate_answer(cc_log, year=2016, month=12)", 
            "cell_type": "code", 
            "execution_count": 40, 
            "outputs": [], 
            "metadata": {
                "collapsed": true
            }
        }, 
        {
            "source": "cc_answer_201512 = generate_answer(cc_log, year=2015, month=12)", 
            "cell_type": "code", 
            "execution_count": 181, 
            "outputs": [], 
            "metadata": {
                "collapsed": true
            }
        }, 
        {
            "source": "cc_answer_201512.to_csv('cc_answer_201512.csv', index=False)\nput_file(satha_credentials, 'cc_answer_201512.csv')", 
            "cell_type": "code", 
            "execution_count": 182, 
            "outputs": [
                {
                    "output_type": "stream", 
                    "name": "stdout", 
                    "text": "<Response [201]>\n"
                }
            ], 
            "metadata": {}
        }, 
        {
            "source": "## Aggregation", 
            "cell_type": "markdown", 
            "metadata": {}
        }, 
        {
            "source": "cc_answer_201601 = generate_answer(cc_log, year=2016, month=1)", 
            "cell_type": "code", 
            "execution_count": 41, 
            "outputs": [], 
            "metadata": {
                "collapsed": true
            }
        }, 
        {
            "source": "cc_answer_201612.to_csv('cc_answer_201612.csv', index=False)\nput_file(satha_credentials, 'cc_answer_201612.csv')\n\ncc_answer_201601.to_csv('cc_answer_201601.csv', index=False)\nput_file(satha_credentials, 'cc_answer_201601.csv')", 
            "cell_type": "code", 
            "execution_count": 20, 
            "outputs": [
                {
                    "output_type": "error", 
                    "evalue": "name 'cc_answer_201612' is not defined", 
                    "traceback": [
                        "\u001b[0;31m\u001b[0m", 
                        "\u001b[0;31mNameError\u001b[0mTraceback (most recent call last)", 
                        "\u001b[0;32m<ipython-input-20-26c96c6bb420>\u001b[0m in \u001b[0;36m<module>\u001b[0;34m()\u001b[0m\n\u001b[0;32m----> 1\u001b[0;31m \u001b[0mcc_answer_201612\u001b[0m\u001b[0;34m.\u001b[0m\u001b[0mto_csv\u001b[0m\u001b[0;34m(\u001b[0m\u001b[0;34m'cc_answer_201612.csv'\u001b[0m\u001b[0;34m,\u001b[0m \u001b[0mindex\u001b[0m\u001b[0;34m=\u001b[0m\u001b[0mFalse\u001b[0m\u001b[0;34m)\u001b[0m\u001b[0;34m\u001b[0m\u001b[0m\n\u001b[0m\u001b[1;32m      2\u001b[0m \u001b[0mput_file\u001b[0m\u001b[0;34m(\u001b[0m\u001b[0msatha_credentials\u001b[0m\u001b[0;34m,\u001b[0m \u001b[0;34m'cc_answer_201612.csv'\u001b[0m\u001b[0;34m)\u001b[0m\u001b[0;34m\u001b[0m\u001b[0m\n\u001b[1;32m      3\u001b[0m \u001b[0;34m\u001b[0m\u001b[0m\n\u001b[1;32m      4\u001b[0m \u001b[0mcc_answer_201601\u001b[0m\u001b[0;34m.\u001b[0m\u001b[0mto_csv\u001b[0m\u001b[0;34m(\u001b[0m\u001b[0;34m'cc_answer_201601.csv'\u001b[0m\u001b[0;34m,\u001b[0m \u001b[0mindex\u001b[0m\u001b[0;34m=\u001b[0m\u001b[0mFalse\u001b[0m\u001b[0;34m)\u001b[0m\u001b[0;34m\u001b[0m\u001b[0m\n\u001b[1;32m      5\u001b[0m \u001b[0mput_file\u001b[0m\u001b[0;34m(\u001b[0m\u001b[0msatha_credentials\u001b[0m\u001b[0;34m,\u001b[0m \u001b[0;34m'cc_answer_201601.csv'\u001b[0m\u001b[0;34m)\u001b[0m\u001b[0;34m\u001b[0m\u001b[0m\n", 
                        "\u001b[0;31mNameError\u001b[0m: name 'cc_answer_201612' is not defined"
                    ], 
                    "ename": "NameError"
                }
            ], 
            "metadata": {}
        }, 
        {
            "source": "cc_answer_201701 = pd.read_csv(get_object_storage_file_with_credentials_b3d150584aa142a1975f62c1c8b1699a('201710kbankibm', '2017-01-answer.csv'))\ncc_answer_201601 = pd.read_csv(get_object_storage_file_with_credentials_b3d150584aa142a1975f62c1c8b1699a('201710kbankibm', 'cc_answer_201601.csv'))\ncc_answer_201612 = pd.read_csv(get_object_storage_file_with_credentials_b3d150584aa142a1975f62c1c8b1699a('201710kbankibm', 'cc_answer_201612.csv'))", 
            "cell_type": "code", 
            "execution_count": 21, 
            "outputs": [], 
            "metadata": {
                "collapsed": true
            }
        }, 
        {
            "source": "## Naive Evaluation", 
            "cell_type": "markdown", 
            "metadata": {}
        }, 
        {
            "source": "pd.DataFrame(columns=['name'] + [x+y for x in ['Automobiles and Vehicles', 'Clothing Stores', 'Service Providers', 'Transportation', 'Utilities']\n            for y in ['-freq', '-sum']])", 
            "cell_type": "code", 
            "execution_count": 20, 
            "outputs": [
                {
                    "output_type": "execute_result", 
                    "metadata": {}, 
                    "data": {
                        "text/plain": "Empty DataFrame\nColumns: [name, Automobiles and Vehicles-freq, Automobiles and Vehicles-sum, Clothing Stores-freq, Clothing Stores-sum, Service Providers-freq, Service Providers-sum, Transportation-freq, Transportation-sum, Utilities-freq, Utilities-sum]\nIndex: []", 
                        "text/html": "<div>\n<table border=\"1\" class=\"dataframe\">\n  <thead>\n    <tr style=\"text-align: right;\">\n      <th></th>\n      <th>name</th>\n      <th>Automobiles and Vehicles-freq</th>\n      <th>Automobiles and Vehicles-sum</th>\n      <th>Clothing Stores-freq</th>\n      <th>Clothing Stores-sum</th>\n      <th>Service Providers-freq</th>\n      <th>Service Providers-sum</th>\n      <th>Transportation-freq</th>\n      <th>Transportation-sum</th>\n      <th>Utilities-freq</th>\n      <th>Utilities-sum</th>\n    </tr>\n  </thead>\n  <tbody>\n  </tbody>\n</table>\n</div>"
                    }, 
                    "execution_count": 20
                }
            ], 
            "metadata": {}
        }, 
        {
            "source": "scores = pd.DataFrame(columns=[x+y for x in ['Automobiles and Vehicles', 'Clothing Stores', 'Service Providers', 'Transportation', 'Utilities']\n            for y in ['-freq', '-sum']])\n\nscoring_data = {\n    '201601_MAE':{\n        'pred': cc_answer_201601,\n        'ans': cc_answer_201701,\n        'fn': mean_absolute_error\n    },\n    '201601_MSE':{\n        'pred': cc_answer_201601,\n        'ans': cc_answer_201701,\n        'fn': mean_squared_error\n    },\n    '201612_MAE':{\n        'pred': cc_answer_201612,\n        'ans': cc_answer_201701,\n        'fn': mean_absolute_error\n    },\n    '201612_MSE':{\n        'pred': cc_answer_201612,\n        'ans': cc_answer_201701,\n        'fn': mean_squared_error\n    }\n}\n\nfor name, data in scoring_data.iteritems():\n    new_data = dict()\n#     new_data['name'] = [name]\n    for a in [x+y for x in ['Automobiles and Vehicles', 'Clothing Stores', 'Service Providers', 'Transportation', 'Utilities']\n                for y in ['-freq', '-sum']]:\n        new_data[a] = [data['fn'](data['pred'][a], data['ans'][a])]\n    scores = scores.append(pd.DataFrame(new_data, index=[name]))\n#     print new_data\n\nscores.head()", 
            "cell_type": "code", 
            "execution_count": 28, 
            "outputs": [
                {
                    "output_type": "execute_result", 
                    "metadata": {}, 
                    "data": {
                        "text/plain": "            Automobiles and Vehicles-freq  Automobiles and Vehicles-sum  \\\n201601_MSE                       2.532221                  1.700592e+08   \n201612_MSE                       1.579453                  1.726393e+08   \n201601_MAE                       0.632769                  1.448107e+03   \n201612_MAE                       0.519168                  1.522521e+03   \n\n            Clothing Stores-freq  Clothing Stores-sum  Service Providers-freq  \\\n201601_MSE              0.638884         8.000736e+07                3.511878   \n201612_MSE              0.822580         1.346220e+08                2.494618   \n201601_MAE              0.225044         8.744553e+02                0.459365   \n201612_MAE              0.246923         9.972524e+02                0.464697   \n\n            Service Providers-sum  Transportation-freq  Transportation-sum  \\\n201601_MSE           7.986387e+09             1.366920        1.357604e+08   \n201612_MSE           7.144193e+09             0.830130        1.663102e+08   \n201601_MAE           5.845895e+03             0.207051        9.120915e+02   \n201612_MAE           1.060855e+04             0.188465        9.323202e+02   \n\n            Utilities-freq  Utilities-sum  \n201601_MSE        0.551218   3.737971e+07  \n201612_MSE        0.526467   8.573237e+07  \n201601_MAE        0.240516   9.988586e+02  \n201612_MAE        0.232835   1.151125e+03  ", 
                        "text/html": "<div>\n<table border=\"1\" class=\"dataframe\">\n  <thead>\n    <tr style=\"text-align: right;\">\n      <th></th>\n      <th>Automobiles and Vehicles-freq</th>\n      <th>Automobiles and Vehicles-sum</th>\n      <th>Clothing Stores-freq</th>\n      <th>Clothing Stores-sum</th>\n      <th>Service Providers-freq</th>\n      <th>Service Providers-sum</th>\n      <th>Transportation-freq</th>\n      <th>Transportation-sum</th>\n      <th>Utilities-freq</th>\n      <th>Utilities-sum</th>\n    </tr>\n  </thead>\n  <tbody>\n    <tr>\n      <th>201601_MSE</th>\n      <td>2.532221</td>\n      <td>1.700592e+08</td>\n      <td>0.638884</td>\n      <td>8.000736e+07</td>\n      <td>3.511878</td>\n      <td>7.986387e+09</td>\n      <td>1.366920</td>\n      <td>1.357604e+08</td>\n      <td>0.551218</td>\n      <td>3.737971e+07</td>\n    </tr>\n    <tr>\n      <th>201612_MSE</th>\n      <td>1.579453</td>\n      <td>1.726393e+08</td>\n      <td>0.822580</td>\n      <td>1.346220e+08</td>\n      <td>2.494618</td>\n      <td>7.144193e+09</td>\n      <td>0.830130</td>\n      <td>1.663102e+08</td>\n      <td>0.526467</td>\n      <td>8.573237e+07</td>\n    </tr>\n    <tr>\n      <th>201601_MAE</th>\n      <td>0.632769</td>\n      <td>1.448107e+03</td>\n      <td>0.225044</td>\n      <td>8.744553e+02</td>\n      <td>0.459365</td>\n      <td>5.845895e+03</td>\n      <td>0.207051</td>\n      <td>9.120915e+02</td>\n      <td>0.240516</td>\n      <td>9.988586e+02</td>\n    </tr>\n    <tr>\n      <th>201612_MAE</th>\n      <td>0.519168</td>\n      <td>1.522521e+03</td>\n      <td>0.246923</td>\n      <td>9.972524e+02</td>\n      <td>0.464697</td>\n      <td>1.060855e+04</td>\n      <td>0.188465</td>\n      <td>9.323202e+02</td>\n      <td>0.232835</td>\n      <td>1.151125e+03</td>\n    </tr>\n  </tbody>\n</table>\n</div>"
                    }, 
                    "execution_count": 28
                }
            ], 
            "metadata": {}
        }, 
        {
            "source": "## Jan 2016 Only", 
            "cell_type": "markdown", 
            "metadata": {}
        }, 
        {
            "source": "cc_log_201601 = cc_log.loc[(cc_log['txn_dt'].apply(lambda x:x.month) == 1) & \n                                (cc_log['txn_dt'].apply(lambda x:x.year) == 2016), :]\n\npd.pivot_table(cc_log_201601, values='bill_amt', index='card_no', columns='Category', \n               aggfunc='sum', fill_value=0).reset_index()", 
            "cell_type": "code", 
            "execution_count": null, 
            "outputs": [], 
            "metadata": {
                "collapsed": true
            }
        }, 
        {
            "source": "## Preprocess data", 
            "cell_type": "markdown", 
            "metadata": {}
        }, 
        {
            "source": "cc_answer = cc_answer_201612.copy()\n\ncategories = ['Automobiles and Vehicles', 'Clothing Stores', \n              'Service Providers', 'Transportation', 'Utilities']\n\nfor cat in categories:\n    cc_answer[cat + '_has_spending'] = (cc_answer[cat + '-freq'] > 0).astype(np.int32)\n\nfor col in cc_answer.iloc[:, 1:].columns:\n    cc_answer[col] = cc_answer[col].astype(np.float32)\n    \ncc_answer.head()", 
            "cell_type": "code", 
            "execution_count": 22, 
            "outputs": [
                {
                    "output_type": "execute_result", 
                    "data": {
                        "text/html": "<div>\n<table border=\"1\" class=\"dataframe\">\n  <thead>\n    <tr style=\"text-align: right;\">\n      <th></th>\n      <th>card_no</th>\n      <th>Automobiles and Vehicles-freq</th>\n      <th>Automobiles and Vehicles-sum</th>\n      <th>Clothing Stores-freq</th>\n      <th>Clothing Stores-sum</th>\n      <th>Service Providers-freq</th>\n      <th>Service Providers-sum</th>\n      <th>Transportation-freq</th>\n      <th>Transportation-sum</th>\n      <th>Utilities-freq</th>\n      <th>Utilities-sum</th>\n      <th>Automobiles and Vehicles_has_spending</th>\n      <th>Clothing Stores_has_spending</th>\n      <th>Service Providers_has_spending</th>\n      <th>Transportation_has_spending</th>\n      <th>Utilities_has_spending</th>\n    </tr>\n  </thead>\n  <tbody>\n    <tr>\n      <th>0</th>\n      <td>4410123456000001</td>\n      <td>0.0</td>\n      <td>0.0</td>\n      <td>0.0</td>\n      <td>0.0</td>\n      <td>0.0</td>\n      <td>0.0</td>\n      <td>0.0</td>\n      <td>0.0</td>\n      <td>0.0</td>\n      <td>0.0</td>\n      <td>0.0</td>\n      <td>0.0</td>\n      <td>0.0</td>\n      <td>0.0</td>\n      <td>0.0</td>\n    </tr>\n    <tr>\n      <th>1</th>\n      <td>4410123456000002</td>\n      <td>0.0</td>\n      <td>0.0</td>\n      <td>0.0</td>\n      <td>0.0</td>\n      <td>0.0</td>\n      <td>0.0</td>\n      <td>0.0</td>\n      <td>0.0</td>\n      <td>0.0</td>\n      <td>0.0</td>\n      <td>0.0</td>\n      <td>0.0</td>\n      <td>0.0</td>\n      <td>0.0</td>\n      <td>0.0</td>\n    </tr>\n    <tr>\n      <th>2</th>\n      <td>4410123456000003</td>\n      <td>3.0</td>\n      <td>2960.0</td>\n      <td>0.0</td>\n      <td>0.0</td>\n      <td>0.0</td>\n      <td>0.0</td>\n      <td>0.0</td>\n      <td>0.0</td>\n      <td>0.0</td>\n      <td>0.0</td>\n      <td>1.0</td>\n      <td>0.0</td>\n      <td>0.0</td>\n      <td>0.0</td>\n      <td>0.0</td>\n    </tr>\n    <tr>\n      <th>3</th>\n      <td>4410123456000004</td>\n      <td>0.0</td>\n      <td>0.0</td>\n      <td>0.0</td>\n      <td>0.0</td>\n      <td>0.0</td>\n      <td>0.0</td>\n      <td>0.0</td>\n      <td>0.0</td>\n      <td>0.0</td>\n      <td>0.0</td>\n      <td>0.0</td>\n      <td>0.0</td>\n      <td>0.0</td>\n      <td>0.0</td>\n      <td>0.0</td>\n    </tr>\n    <tr>\n      <th>4</th>\n      <td>4410123456000005</td>\n      <td>2.0</td>\n      <td>1200.0</td>\n      <td>0.0</td>\n      <td>0.0</td>\n      <td>0.0</td>\n      <td>0.0</td>\n      <td>0.0</td>\n      <td>0.0</td>\n      <td>0.0</td>\n      <td>0.0</td>\n      <td>1.0</td>\n      <td>0.0</td>\n      <td>0.0</td>\n      <td>0.0</td>\n      <td>0.0</td>\n    </tr>\n  </tbody>\n</table>\n</div>", 
                        "text/plain": "            card_no  Automobiles and Vehicles-freq  \\\n0  4410123456000001                            0.0   \n1  4410123456000002                            0.0   \n2  4410123456000003                            3.0   \n3  4410123456000004                            0.0   \n4  4410123456000005                            2.0   \n\n   Automobiles and Vehicles-sum  Clothing Stores-freq  Clothing Stores-sum  \\\n0                           0.0                   0.0                  0.0   \n1                           0.0                   0.0                  0.0   \n2                        2960.0                   0.0                  0.0   \n3                           0.0                   0.0                  0.0   \n4                        1200.0                   0.0                  0.0   \n\n   Service Providers-freq  Service Providers-sum  Transportation-freq  \\\n0                     0.0                    0.0                  0.0   \n1                     0.0                    0.0                  0.0   \n2                     0.0                    0.0                  0.0   \n3                     0.0                    0.0                  0.0   \n4                     0.0                    0.0                  0.0   \n\n   Transportation-sum  Utilities-freq  Utilities-sum  \\\n0                 0.0             0.0            0.0   \n1                 0.0             0.0            0.0   \n2                 0.0             0.0            0.0   \n3                 0.0             0.0            0.0   \n4                 0.0             0.0            0.0   \n\n   Automobiles and Vehicles_has_spending  Clothing Stores_has_spending  \\\n0                                    0.0                           0.0   \n1                                    0.0                           0.0   \n2                                    1.0                           0.0   \n3                                    0.0                           0.0   \n4                                    1.0                           0.0   \n\n   Service Providers_has_spending  Transportation_has_spending  \\\n0                             0.0                          0.0   \n1                             0.0                          0.0   \n2                             0.0                          0.0   \n3                             0.0                          0.0   \n4                             0.0                          0.0   \n\n   Utilities_has_spending  \n0                     0.0  \n1                     0.0  \n2                     0.0  \n3                     0.0  \n4                     0.0  "
                    }, 
                    "execution_count": 22, 
                    "metadata": {}
                }
            ], 
            "metadata": {}
        }, 
        {
            "source": "cc_info_agg = cc_info.copy()\n\ncc_info_agg['opn_yr'] = pd.to_datetime(cc_info_agg['opn_dt']).apply(lambda x: x.year)\ncc_info_agg['exp_yr'] = cc_info_agg['exp_dt'].apply(lambda x:2000 + (x % 100))\ncc_info_agg['card_age'] = cc_info_agg['exp_yr'] - cc_info_agg['opn_yr']\ncc_info_agg['age'] = 2017 - cc_info_agg['brth_estb_yr']\n\ncc_info_agg = cc_info_agg.fillna(0)\n\ncc_info_agg = cc_info_agg.drop(['main_zip_cd', 'brth_estb_yr', 'exp_dt', 'opn_dt', 'card_type'], axis=1)\n\nfor col in cc_info_agg.iloc[:, 2:].columns:\n    cc_info_agg[col] = cc_info_agg[col].astype(np.float32)\n\ncc_info_agg.head()", 
            "cell_type": "code", 
            "execution_count": 23, 
            "outputs": [
                {
                    "output_type": "execute_result", 
                    "data": {
                        "text/html": "<div>\n<table border=\"1\" class=\"dataframe\">\n  <thead>\n    <tr style=\"text-align: right;\">\n      <th></th>\n      <th>card_no</th>\n      <th>cr_lmt_amt</th>\n      <th>prev_cr_lmt_amt</th>\n      <th>cr_line_amt</th>\n      <th>incm_amt</th>\n      <th>opn_yr</th>\n      <th>exp_yr</th>\n      <th>card_age</th>\n      <th>age</th>\n    </tr>\n  </thead>\n  <tbody>\n    <tr>\n      <th>0</th>\n      <td>4410123456000001</td>\n      <td>50000</td>\n      <td>0.0</td>\n      <td>50000.0</td>\n      <td>21000.0</td>\n      <td>1997.0</td>\n      <td>2017.0</td>\n      <td>20.0</td>\n      <td>64.0</td>\n    </tr>\n    <tr>\n      <th>1</th>\n      <td>4410123456000002</td>\n      <td>146000</td>\n      <td>0.0</td>\n      <td>146000.0</td>\n      <td>72000.0</td>\n      <td>2010.0</td>\n      <td>2020.0</td>\n      <td>10.0</td>\n      <td>52.0</td>\n    </tr>\n    <tr>\n      <th>2</th>\n      <td>4410123456000003</td>\n      <td>22000</td>\n      <td>0.0</td>\n      <td>22000.0</td>\n      <td>20000.0</td>\n      <td>2014.0</td>\n      <td>2019.0</td>\n      <td>5.0</td>\n      <td>39.0</td>\n    </tr>\n    <tr>\n      <th>3</th>\n      <td>4410123456000004</td>\n      <td>1000000</td>\n      <td>0.0</td>\n      <td>2141000.0</td>\n      <td>1800000.0</td>\n      <td>2014.0</td>\n      <td>2019.0</td>\n      <td>5.0</td>\n      <td>62.0</td>\n    </tr>\n    <tr>\n      <th>4</th>\n      <td>4410123456000005</td>\n      <td>80000</td>\n      <td>0.0</td>\n      <td>80000.0</td>\n      <td>32000.0</td>\n      <td>2014.0</td>\n      <td>2019.0</td>\n      <td>5.0</td>\n      <td>48.0</td>\n    </tr>\n  </tbody>\n</table>\n</div>", 
                        "text/plain": "            card_no  cr_lmt_amt  prev_cr_lmt_amt  cr_line_amt   incm_amt  \\\n0  4410123456000001       50000              0.0      50000.0    21000.0   \n1  4410123456000002      146000              0.0     146000.0    72000.0   \n2  4410123456000003       22000              0.0      22000.0    20000.0   \n3  4410123456000004     1000000              0.0    2141000.0  1800000.0   \n4  4410123456000005       80000              0.0      80000.0    32000.0   \n\n   opn_yr  exp_yr  card_age   age  \n0  1997.0  2017.0      20.0  64.0  \n1  2010.0  2020.0      10.0  52.0  \n2  2014.0  2019.0       5.0  39.0  \n3  2014.0  2019.0       5.0  62.0  \n4  2014.0  2019.0       5.0  48.0  "
                    }, 
                    "execution_count": 23, 
                    "metadata": {}
                }
            ], 
            "metadata": {}
        }, 
        {
            "source": "cc_cat['Category'].unique()", 
            "cell_type": "code", 
            "execution_count": 435, 
            "outputs": [
                {
                    "output_type": "execute_result", 
                    "metadata": {}, 
                    "data": {
                        "text/plain": "array(['Airlines', 'Amusement and Entertainment',\n       'Automobile/Vehicle Rentals', 'Automobiles and Vehicles',\n       'Business Services', 'Clothing Stores', 'Contracted Services',\n       'Government Services', 'Hotels and Motels',\n       'Mail Order/Telephone Order Providers', 'Miscellaneous Stores',\n       'Personal Service Providers',\n       'Professional Services and Membership Organizations',\n       'Repair Services', 'Retail Stores', 'Service Providers',\n       'Transportation', 'Utilities',\n       'Wholesale Distributors and Manufacturers'], dtype=object)"
                    }, 
                    "execution_count": 435
                }
            ], 
            "metadata": {}
        }, 
        {
            "source": "cc_log_agg_201611 = generate_answer(cc_log, year=2016, month=11)", 
            "cell_type": "code", 
            "execution_count": 53, 
            "outputs": [], 
            "metadata": {
                "collapsed": true
            }
        }, 
        {
            "source": "last_month = 11\ncc_log_agg_last_month = cc_log.loc[(cc_log['txn_dt'].apply(lambda x: x.month) == last_month) & \n                               (cc_log['txn_dt'].apply(lambda x: x.year) < 2017), :].copy()\ncc_log_agg_3_month = cc_log.loc[(cc_log['txn_dt'].apply(lambda x: x.month) > last_month - 3) & \n                                (cc_log['txn_dt'].apply(lambda x: x.month) <= last_month) &\n                               (cc_log['txn_dt'].apply(lambda x: x.year) < 2017), :].copy()\ncc_log_agg_6_month = cc_log.loc[(cc_log['txn_dt'].apply(lambda x: x.month) > last_month - 6) & \n                                (cc_log['txn_dt'].apply(lambda x: x.month) <= last_month) &\n                               (cc_log['txn_dt'].apply(lambda x: x.year) < 2017), :].copy()\ncc_log_agg_whole_year = cc_log.loc[(cc_log['txn_dt'].apply(lambda x: x.month) <= last_month) &\n                               (cc_log['txn_dt'].apply(lambda x: x.year) < 2017), :].copy()\n", 
            "cell_type": "code", 
            "execution_count": 24, 
            "outputs": [], 
            "metadata": {
                "collapsed": true
            }
        }, 
        {
            "source": "opts = ['mean', 'min', 'max', 'count']\n\ngrouped = cc_log_agg_last_month.groupby(['card_no', 'Category']).agg({'bill_amt': opts}).unstack(fill_value=0)\ncc_log_agg_1m = pd.concat([grouped['bill_amt'][opt].reset_index()\\\n                              .rename(columns={x: x + '_1m_' + opt for x in grouped['bill_amt'][opt].columns}) for opt in opts], axis=1)\n# cc_log_agg_1m = cc_log_agg_1m.fillna(0)\n\ngrouped = cc_log_agg_3_month.groupby(['card_no', 'Category']).agg({'bill_amt': opts}).unstack(fill_value=0)\ncc_log_agg_3m = pd.concat([grouped['bill_amt'][opt].reset_index()\\\n                              .rename(columns={x: x + '_3m_' + opt for x in grouped['bill_amt'][opt].columns}) for opt in opts], axis=1)\n# cc_log_agg_3m = cc_log_agg_3m.fillna(0)\n\ngrouped = cc_log_agg_6_month.groupby(['card_no', 'Category']).agg({'bill_amt': opts}).unstack(fill_value=0)\ncc_log_agg_6m = pd.concat([grouped['bill_amt'][opt].reset_index()\\\n                              .rename(columns={x: x + '_6m_' + opt for x in grouped['bill_amt'][opt].columns}) for opt in opts], axis=1)\n# cc_log_agg_6m = cc_log_agg_6m.fillna(0)\n\ngrouped = cc_log_agg_whole_year.groupby(['card_no', 'Category']).agg({'bill_amt': opts}).unstack(fill_value=0)\ncc_log_agg_1y = pd.concat([grouped['bill_amt'][opt].reset_index()\\\n                              .rename(columns={x: x + '_1y_' + opt for x in grouped['bill_amt'][opt].columns}) for opt in opts], axis=1)\n# cc_log_agg_1y = cc_log_agg_1y.fillna(0)\n\n\n", 
            "cell_type": "code", 
            "execution_count": 25, 
            "outputs": [], 
            "metadata": {
                "collapsed": true
            }
        }, 
        {
            "source": "cc_log_agg_list = [cc_log_agg_1m, cc_log_agg_3m, cc_log_agg_6m, cc_log_agg_1y]\n\ncc_agg_all = cc_info_agg.copy()\n\nfor cc_log_agg in cc_log_agg_list:\n    cc_agg_all = pd.merge(cc_agg_all, cc_log_agg.loc[: , ~cc_log_agg.columns.duplicated()], how='left', on='card_no')\ncc_agg_all = cc_agg_all.fillna(0)", 
            "cell_type": "code", 
            "execution_count": 29, 
            "outputs": [], 
            "metadata": {
                "collapsed": true
            }
        }, 
        {
            "source": "cc_agg_all.to_csv('satha_cc_agg_features.csv', index=False)\nput_file(satha_credentials, 'satha_cc_agg_features.csv')", 
            "cell_type": "code", 
            "execution_count": 31, 
            "outputs": [
                {
                    "output_type": "stream", 
                    "name": "stdout", 
                    "text": "<Response [201]>\n"
                }
            ], 
            "metadata": {}
        }, 
        {
            "source": "cc_log_jannov_agg = cc_log_agg_last_month\n\ngrouped = cc_log_jannov_agg.groupby(['card_no', 'Category']).agg({'bill_amt': opts}).unstack(fill_value=0)\ncc_log_jannov_agg = pd.concat([grouped['bill_amt'][opt].reset_index()\\\n                              .rename(columns={x: x + '_1m_' + opt for x in grouped['bill_amt'][opt].columns}) for opt in opts], axis=1)\ncc_log_jannov_agg = cc_log_jannov_agg.fillna(0)\n\ncc_log_jannov_input = pd.merge(cc_info_agg, \n                               cc_log_jannov_agg.loc[:, ~cc_log_jannov_agg.columns.duplicated()], \n                               how='left', \n                               on='card_no').fillna(0)\n\ncc_log_jannov_input.head()", 
            "cell_type": "code", 
            "execution_count": 64, 
            "outputs": [
                {
                    "output_type": "execute_result", 
                    "data": {
                        "text/html": "<div>\n<table border=\"1\" class=\"dataframe\">\n  <thead>\n    <tr style=\"text-align: right;\">\n      <th></th>\n      <th>card_no</th>\n      <th>cr_lmt_amt</th>\n      <th>prev_cr_lmt_amt</th>\n      <th>cr_line_amt</th>\n      <th>incm_amt</th>\n      <th>opn_yr</th>\n      <th>exp_yr</th>\n      <th>card_age</th>\n      <th>age</th>\n      <th>Airlines_1m_mean</th>\n      <th>...</th>\n      <th>Miscellaneous Stores_1m_count</th>\n      <th>Others_1m_count</th>\n      <th>Personal Service Providers_1m_count</th>\n      <th>Professional Services and Membership Organizations_1m_count</th>\n      <th>Repair Services_1m_count</th>\n      <th>Retail Stores_1m_count</th>\n      <th>Service Providers_1m_count</th>\n      <th>Transportation_1m_count</th>\n      <th>Utilities_1m_count</th>\n      <th>Wholesale Distributors and Manufacturers_1m_count</th>\n    </tr>\n  </thead>\n  <tbody>\n    <tr>\n      <th>0</th>\n      <td>4410123456000001</td>\n      <td>50000</td>\n      <td>0.0</td>\n      <td>50000.0</td>\n      <td>21000.0</td>\n      <td>1997.0</td>\n      <td>2017.0</td>\n      <td>20.0</td>\n      <td>64.0</td>\n      <td>0.0</td>\n      <td>...</td>\n      <td>0.0</td>\n      <td>0.0</td>\n      <td>0.0</td>\n      <td>0.0</td>\n      <td>0.0</td>\n      <td>0.0</td>\n      <td>0.0</td>\n      <td>0.0</td>\n      <td>0.0</td>\n      <td>0.0</td>\n    </tr>\n    <tr>\n      <th>1</th>\n      <td>4410123456000002</td>\n      <td>146000</td>\n      <td>0.0</td>\n      <td>146000.0</td>\n      <td>72000.0</td>\n      <td>2010.0</td>\n      <td>2020.0</td>\n      <td>10.0</td>\n      <td>52.0</td>\n      <td>0.0</td>\n      <td>...</td>\n      <td>0.0</td>\n      <td>0.0</td>\n      <td>0.0</td>\n      <td>0.0</td>\n      <td>0.0</td>\n      <td>0.0</td>\n      <td>0.0</td>\n      <td>0.0</td>\n      <td>0.0</td>\n      <td>0.0</td>\n    </tr>\n    <tr>\n      <th>2</th>\n      <td>4410123456000003</td>\n      <td>22000</td>\n      <td>0.0</td>\n      <td>22000.0</td>\n      <td>20000.0</td>\n      <td>2014.0</td>\n      <td>2019.0</td>\n      <td>5.0</td>\n      <td>39.0</td>\n      <td>0.0</td>\n      <td>...</td>\n      <td>0.0</td>\n      <td>0.0</td>\n      <td>0.0</td>\n      <td>0.0</td>\n      <td>0.0</td>\n      <td>1.0</td>\n      <td>0.0</td>\n      <td>0.0</td>\n      <td>0.0</td>\n      <td>0.0</td>\n    </tr>\n    <tr>\n      <th>3</th>\n      <td>4410123456000004</td>\n      <td>1000000</td>\n      <td>0.0</td>\n      <td>2141000.0</td>\n      <td>1800000.0</td>\n      <td>2014.0</td>\n      <td>2019.0</td>\n      <td>5.0</td>\n      <td>62.0</td>\n      <td>0.0</td>\n      <td>...</td>\n      <td>0.0</td>\n      <td>0.0</td>\n      <td>0.0</td>\n      <td>0.0</td>\n      <td>0.0</td>\n      <td>0.0</td>\n      <td>0.0</td>\n      <td>0.0</td>\n      <td>0.0</td>\n      <td>0.0</td>\n    </tr>\n    <tr>\n      <th>4</th>\n      <td>4410123456000005</td>\n      <td>80000</td>\n      <td>0.0</td>\n      <td>80000.0</td>\n      <td>32000.0</td>\n      <td>2014.0</td>\n      <td>2019.0</td>\n      <td>5.0</td>\n      <td>48.0</td>\n      <td>0.0</td>\n      <td>...</td>\n      <td>0.0</td>\n      <td>0.0</td>\n      <td>0.0</td>\n      <td>0.0</td>\n      <td>0.0</td>\n      <td>1.0</td>\n      <td>0.0</td>\n      <td>0.0</td>\n      <td>0.0</td>\n      <td>0.0</td>\n    </tr>\n  </tbody>\n</table>\n<p>5 rows \u00d7 85 columns</p>\n</div>", 
                        "text/plain": "            card_no  cr_lmt_amt  prev_cr_lmt_amt  cr_line_amt   incm_amt  \\\n0  4410123456000001       50000              0.0      50000.0    21000.0   \n1  4410123456000002      146000              0.0     146000.0    72000.0   \n2  4410123456000003       22000              0.0      22000.0    20000.0   \n3  4410123456000004     1000000              0.0    2141000.0  1800000.0   \n4  4410123456000005       80000              0.0      80000.0    32000.0   \n\n   opn_yr  exp_yr  card_age   age  Airlines_1m_mean  \\\n0  1997.0  2017.0      20.0  64.0               0.0   \n1  2010.0  2020.0      10.0  52.0               0.0   \n2  2014.0  2019.0       5.0  39.0               0.0   \n3  2014.0  2019.0       5.0  62.0               0.0   \n4  2014.0  2019.0       5.0  48.0               0.0   \n\n                         ...                          \\\n0                        ...                           \n1                        ...                           \n2                        ...                           \n3                        ...                           \n4                        ...                           \n\n   Miscellaneous Stores_1m_count  Others_1m_count  \\\n0                            0.0              0.0   \n1                            0.0              0.0   \n2                            0.0              0.0   \n3                            0.0              0.0   \n4                            0.0              0.0   \n\n   Personal Service Providers_1m_count  \\\n0                                  0.0   \n1                                  0.0   \n2                                  0.0   \n3                                  0.0   \n4                                  0.0   \n\n   Professional Services and Membership Organizations_1m_count  \\\n0                                                0.0             \n1                                                0.0             \n2                                                0.0             \n3                                                0.0             \n4                                                0.0             \n\n   Repair Services_1m_count  Retail Stores_1m_count  \\\n0                       0.0                     0.0   \n1                       0.0                     0.0   \n2                       0.0                     1.0   \n3                       0.0                     0.0   \n4                       0.0                     1.0   \n\n   Service Providers_1m_count  Transportation_1m_count  Utilities_1m_count  \\\n0                         0.0                      0.0                 0.0   \n1                         0.0                      0.0                 0.0   \n2                         0.0                      0.0                 0.0   \n3                         0.0                      0.0                 0.0   \n4                         0.0                      0.0                 0.0   \n\n   Wholesale Distributors and Manufacturers_1m_count  \n0                                                0.0  \n1                                                0.0  \n2                                                0.0  \n3                                                0.0  \n4                                                0.0  \n\n[5 rows x 85 columns]"
                    }, 
                    "execution_count": 64, 
                    "metadata": {}
                }
            ], 
            "metadata": {
                "scrolled": true
            }
        }, 
        {
            "source": "cc_input = pd.merge(cc_log_agg_201611, cc_info_agg, how='inner', on='card_no')\n# cc_input = cc_input.drop(['card_type'], axis=1)\ncc_input.head()", 
            "cell_type": "code", 
            "execution_count": 57, 
            "outputs": [
                {
                    "output_type": "execute_result", 
                    "data": {
                        "text/html": "<div>\n<table border=\"1\" class=\"dataframe\">\n  <thead>\n    <tr style=\"text-align: right;\">\n      <th></th>\n      <th>card_no</th>\n      <th>Automobiles and Vehicles-freq</th>\n      <th>Automobiles and Vehicles-sum</th>\n      <th>Clothing Stores-freq</th>\n      <th>Clothing Stores-sum</th>\n      <th>Service Providers-freq</th>\n      <th>Service Providers-sum</th>\n      <th>Transportation-freq</th>\n      <th>Transportation-sum</th>\n      <th>Utilities-freq</th>\n      <th>Utilities-sum</th>\n      <th>cr_lmt_amt</th>\n      <th>prev_cr_lmt_amt</th>\n      <th>cr_line_amt</th>\n      <th>incm_amt</th>\n      <th>opn_yr</th>\n      <th>exp_yr</th>\n      <th>card_age</th>\n      <th>age</th>\n    </tr>\n  </thead>\n  <tbody>\n    <tr>\n      <th>0</th>\n      <td>4410123456000001</td>\n      <td>0.0</td>\n      <td>0.0</td>\n      <td>0.0</td>\n      <td>0.0</td>\n      <td>0.0</td>\n      <td>0.0</td>\n      <td>0.0</td>\n      <td>0.0</td>\n      <td>0.0</td>\n      <td>0.0</td>\n      <td>50000</td>\n      <td>0.0</td>\n      <td>50000.0</td>\n      <td>21000.0</td>\n      <td>1997.0</td>\n      <td>2017.0</td>\n      <td>20.0</td>\n      <td>64.0</td>\n    </tr>\n    <tr>\n      <th>1</th>\n      <td>4410123456000002</td>\n      <td>0.0</td>\n      <td>0.0</td>\n      <td>0.0</td>\n      <td>0.0</td>\n      <td>0.0</td>\n      <td>0.0</td>\n      <td>0.0</td>\n      <td>0.0</td>\n      <td>0.0</td>\n      <td>0.0</td>\n      <td>146000</td>\n      <td>0.0</td>\n      <td>146000.0</td>\n      <td>72000.0</td>\n      <td>2010.0</td>\n      <td>2020.0</td>\n      <td>10.0</td>\n      <td>52.0</td>\n    </tr>\n    <tr>\n      <th>2</th>\n      <td>4410123456000003</td>\n      <td>1.0</td>\n      <td>820.0</td>\n      <td>0.0</td>\n      <td>0.0</td>\n      <td>0.0</td>\n      <td>0.0</td>\n      <td>0.0</td>\n      <td>0.0</td>\n      <td>0.0</td>\n      <td>0.0</td>\n      <td>22000</td>\n      <td>0.0</td>\n      <td>22000.0</td>\n      <td>20000.0</td>\n      <td>2014.0</td>\n      <td>2019.0</td>\n      <td>5.0</td>\n      <td>39.0</td>\n    </tr>\n    <tr>\n      <th>3</th>\n      <td>4410123456000004</td>\n      <td>0.0</td>\n      <td>0.0</td>\n      <td>0.0</td>\n      <td>0.0</td>\n      <td>0.0</td>\n      <td>0.0</td>\n      <td>0.0</td>\n      <td>0.0</td>\n      <td>0.0</td>\n      <td>0.0</td>\n      <td>1000000</td>\n      <td>0.0</td>\n      <td>2141000.0</td>\n      <td>1800000.0</td>\n      <td>2014.0</td>\n      <td>2019.0</td>\n      <td>5.0</td>\n      <td>62.0</td>\n    </tr>\n    <tr>\n      <th>4</th>\n      <td>4410123456000005</td>\n      <td>3.0</td>\n      <td>2400.0</td>\n      <td>0.0</td>\n      <td>0.0</td>\n      <td>0.0</td>\n      <td>0.0</td>\n      <td>0.0</td>\n      <td>0.0</td>\n      <td>0.0</td>\n      <td>0.0</td>\n      <td>80000</td>\n      <td>0.0</td>\n      <td>80000.0</td>\n      <td>32000.0</td>\n      <td>2014.0</td>\n      <td>2019.0</td>\n      <td>5.0</td>\n      <td>48.0</td>\n    </tr>\n  </tbody>\n</table>\n</div>", 
                        "text/plain": "            card_no  Automobiles and Vehicles-freq  \\\n0  4410123456000001                            0.0   \n1  4410123456000002                            0.0   \n2  4410123456000003                            1.0   \n3  4410123456000004                            0.0   \n4  4410123456000005                            3.0   \n\n   Automobiles and Vehicles-sum  Clothing Stores-freq  Clothing Stores-sum  \\\n0                           0.0                   0.0                  0.0   \n1                           0.0                   0.0                  0.0   \n2                         820.0                   0.0                  0.0   \n3                           0.0                   0.0                  0.0   \n4                        2400.0                   0.0                  0.0   \n\n   Service Providers-freq  Service Providers-sum  Transportation-freq  \\\n0                     0.0                    0.0                  0.0   \n1                     0.0                    0.0                  0.0   \n2                     0.0                    0.0                  0.0   \n3                     0.0                    0.0                  0.0   \n4                     0.0                    0.0                  0.0   \n\n   Transportation-sum  Utilities-freq  Utilities-sum  cr_lmt_amt  \\\n0                 0.0             0.0            0.0       50000   \n1                 0.0             0.0            0.0      146000   \n2                 0.0             0.0            0.0       22000   \n3                 0.0             0.0            0.0     1000000   \n4                 0.0             0.0            0.0       80000   \n\n   prev_cr_lmt_amt  cr_line_amt   incm_amt  opn_yr  exp_yr  card_age   age  \n0              0.0      50000.0    21000.0  1997.0  2017.0      20.0  64.0  \n1              0.0     146000.0    72000.0  2010.0  2020.0      10.0  52.0  \n2              0.0      22000.0    20000.0  2014.0  2019.0       5.0  39.0  \n3              0.0    2141000.0  1800000.0  2014.0  2019.0       5.0  62.0  \n4              0.0      80000.0    32000.0  2014.0  2019.0       5.0  48.0  "
                    }, 
                    "execution_count": 57, 
                    "metadata": {}
                }
            ], 
            "metadata": {}
        }, 
        {
            "source": "## Model Building", 
            "cell_type": "markdown", 
            "metadata": {}
        }, 
        {
            "source": "from sklearn.ensemble import RandomForestClassifier, AdaBoostClassifier, RandomForestRegressor\nfrom sklearn.svm import SVC\nfrom sklearn.ensemble import GradientBoostingRegressor\nfrom sklearn.cross_validation import train_test_split\nfrom sklearn.metrics import confusion_matrix\nfrom sklearn.metrics import classification_report\nfrom sklearn.metrics.regression import mean_absolute_error, mean_squared_error\nfrom sklearn.multioutput import MultiOutputRegressor\nfrom sklearn.lda import LDA\nfrom sklearn.decomposition import PCA", 
            "cell_type": "code", 
            "execution_count": 98, 
            "outputs": [], 
            "metadata": {
                "collapsed": true
            }
        }, 
        {
            "source": "prediction_list = [] # a list of (name, model, x, y)", 
            "cell_type": "code", 
            "execution_count": 54, 
            "outputs": [], 
            "metadata": {
                "collapsed": true
            }
        }, 
        {
            "source": "## Mindless Model", 
            "cell_type": "markdown", 
            "metadata": {}
        }, 
        {
            "source": "x, y = cc_input.iloc[:, 1:].copy(), cc_answer.iloc[:,1:11].copy()", 
            "cell_type": "code", 
            "execution_count": 58, 
            "outputs": [], 
            "metadata": {
                "collapsed": true
            }
        }, 
        {
            "source": "x_train, x_test, y_train, y_test = train_test_split(x, y, test_size=0.5, random_state=42)", 
            "cell_type": "code", 
            "execution_count": 59, 
            "outputs": [], 
            "metadata": {
                "collapsed": true
            }
        }, 
        {
            "source": "mindless_model = MultiOutputRegressor(GradientBoostingRegressor()).fit(x_train, y_train)", 
            "cell_type": "code", 
            "execution_count": 60, 
            "outputs": [], 
            "metadata": {
                "collapsed": true
            }
        }, 
        {
            "source": "print 'Training MAE: ', mean_absolute_error(y_train, mindless_model.predict(x_train))\nprint 'Training MSE: ', mean_squared_error(y_train, mindless_model.predict(x_train))\nprint 'Testing MAE: ', mean_absolute_error(y_test, mindless_model.predict(x_test))\nprint 'Testing MSE: ', mean_squared_error(y_test, mindless_model.predict(x_test))", 
            "cell_type": "code", 
            "execution_count": 61, 
            "outputs": [
                {
                    "output_type": "stream", 
                    "name": "stdout", 
                    "text": "Training MAE:  1663.45818572\nTraining MSE:  246287458.999\nTesting MAE:  1881.92447899\nTesting MSE:  503647099.629\n"
                }
            ], 
            "metadata": {}
        }, 
        {
            "source": "prediction_list.append(('Mindless', mindless_model, x, y))", 
            "cell_type": "code", 
            "execution_count": 62, 
            "outputs": [], 
            "metadata": {
                "collapsed": true
            }
        }, 
        {
            "source": "mindless_result = pd.DataFrame(mindless_model.predict(x), columns=cc_answer.iloc[:, 1:11].columns)\nmindless_result['card_no'] = cc_answer.iloc[:, 0]\nmindless_result.to_csv('satha-mindless-result.csv', index=False)\nput_file(satha_credentials, 'satha-mindless-result.csv')", 
            "cell_type": "code", 
            "execution_count": null, 
            "outputs": [], 
            "metadata": {
                "collapsed": true
            }
        }, 
        {
            "source": "## Hopefully-More-Clever Model", 
            "cell_type": "markdown", 
            "metadata": {}
        }, 
        {
            "source": "x_train, x_test, y_train, y_test = train_test_split(cc_log_jannov_input.iloc[:, 2:], \n                                                    cc_answer.iloc[:, 1:11], \n                                                    test_size=0.5, \n                                                    random_state=42)", 
            "cell_type": "code", 
            "execution_count": 99, 
            "outputs": [], 
            "metadata": {
                "collapsed": true
            }
        }, 
        {
            "source": "hmc_model = MultiOutputRegressor(RandomForestRegressor()).fit(x_train, y_train)", 
            "cell_type": "code", 
            "execution_count": 100, 
            "outputs": [], 
            "metadata": {
                "collapsed": true
            }
        }, 
        {
            "source": "cc_log_jannov_input.iloc[:, 2:].to_csv('satha-hmc-input.csv', index=False)\nput_file(satha_credentials, 'satha-hmc-input.csv')\n\ncc_answer.iloc[:, 1:11].to_csv('satha-hmc-output.csv', index=False)\nput_file(satha_credentials, 'satha-hmc-output.csv')", 
            "cell_type": "code", 
            "execution_count": 102, 
            "outputs": [
                {
                    "output_type": "stream", 
                    "name": "stdout", 
                    "text": "<Response [201]>\n<Response [201]>\n"
                }
            ], 
            "metadata": {}
        }, 
        {
            "source": "print 'Training MAE: ', mean_absolute_error(y_train, hmc_model.predict(x_train))\nprint 'Training MSE: ', mean_squared_error(y_train, hmc_model.predict(x_train))\nprint 'Testing MAE: ', mean_absolute_error(y_test, hmc_model.predict(x_test))\nprint 'Testing MSE: ', mean_squared_error(y_test, hmc_model.predict(x_test))", 
            "cell_type": "code", 
            "execution_count": 101, 
            "outputs": [
                {
                    "output_type": "stream", 
                    "name": "stdout", 
                    "text": "Training MAE:  753.575183233\nTraining MSE:  89611490.2211\nTesting MAE:  2077.57504775\nTesting MSE:  515878911.446\n"
                }
            ], 
            "metadata": {}
        }, 
        {
            "source": "prediction_list.append(('HMC', hmc_model, cc_log_jannov_input.iloc[:, 2:], cc_answer.iloc[:, 1:11]))", 
            "cell_type": "code", 
            "execution_count": 67, 
            "outputs": [], 
            "metadata": {
                "collapsed": true
            }
        }, 
        {
            "source": "hmc_result = pd.DataFrame(hmc_model.predict(cc_log_jannov_input.iloc[:, 2:]), columns = cc_answer.iloc[:, 1:11].columns)\nhmc_result.to_csv('satha-hmc-result.csv', index=False)\nput_file(satha_credentials, 'satha-hmc-result.csv')", 
            "cell_type": "code", 
            "execution_count": 92, 
            "outputs": [
                {
                    "output_type": "stream", 
                    "name": "stdout", 
                    "text": "<Response [201]>\n"
                }
            ], 
            "metadata": {}
        }, 
        {
            "source": "hmc_result = pd.DataFrame(hmc_model.predict(cc_log_jannov_input.iloc[:, 2:]), columns = cc_answer.iloc[:, 1:11].columns)\nhmc_result.head()", 
            "cell_type": "code", 
            "execution_count": 93, 
            "outputs": [
                {
                    "output_type": "execute_result", 
                    "data": {
                        "text/html": "<div>\n<table border=\"1\" class=\"dataframe\">\n  <thead>\n    <tr style=\"text-align: right;\">\n      <th></th>\n      <th>Automobiles and Vehicles-freq</th>\n      <th>Automobiles and Vehicles-sum</th>\n      <th>Clothing Stores-freq</th>\n      <th>Clothing Stores-sum</th>\n      <th>Service Providers-freq</th>\n      <th>Service Providers-sum</th>\n      <th>Transportation-freq</th>\n      <th>Transportation-sum</th>\n      <th>Utilities-freq</th>\n      <th>Utilities-sum</th>\n    </tr>\n  </thead>\n  <tbody>\n    <tr>\n      <th>0</th>\n      <td>0.0</td>\n      <td>74.0</td>\n      <td>0.0</td>\n      <td>0.0</td>\n      <td>0.1</td>\n      <td>1200.0</td>\n      <td>0.0</td>\n      <td>0.0</td>\n      <td>0.0</td>\n      <td>86.0</td>\n    </tr>\n    <tr>\n      <th>1</th>\n      <td>0.0</td>\n      <td>0.0</td>\n      <td>0.0</td>\n      <td>0.0</td>\n      <td>0.0</td>\n      <td>0.0</td>\n      <td>0.0</td>\n      <td>0.0</td>\n      <td>0.0</td>\n      <td>0.0</td>\n    </tr>\n    <tr>\n      <th>2</th>\n      <td>2.8</td>\n      <td>2746.0</td>\n      <td>0.0</td>\n      <td>0.0</td>\n      <td>0.0</td>\n      <td>0.0</td>\n      <td>0.0</td>\n      <td>0.0</td>\n      <td>0.1</td>\n      <td>1210.0</td>\n    </tr>\n    <tr>\n      <th>3</th>\n      <td>0.0</td>\n      <td>0.0</td>\n      <td>0.0</td>\n      <td>0.0</td>\n      <td>0.1</td>\n      <td>138.0</td>\n      <td>0.0</td>\n      <td>0.0</td>\n      <td>0.1</td>\n      <td>0.0</td>\n    </tr>\n    <tr>\n      <th>4</th>\n      <td>4.1</td>\n      <td>1956.0</td>\n      <td>0.0</td>\n      <td>0.0</td>\n      <td>0.1</td>\n      <td>0.0</td>\n      <td>0.0</td>\n      <td>0.0</td>\n      <td>0.4</td>\n      <td>50.0</td>\n    </tr>\n  </tbody>\n</table>\n</div>", 
                        "text/plain": "   Automobiles and Vehicles-freq  Automobiles and Vehicles-sum  \\\n0                            0.0                          74.0   \n1                            0.0                           0.0   \n2                            2.8                        2746.0   \n3                            0.0                           0.0   \n4                            4.1                        1956.0   \n\n   Clothing Stores-freq  Clothing Stores-sum  Service Providers-freq  \\\n0                   0.0                  0.0                     0.1   \n1                   0.0                  0.0                     0.0   \n2                   0.0                  0.0                     0.0   \n3                   0.0                  0.0                     0.1   \n4                   0.0                  0.0                     0.1   \n\n   Service Providers-sum  Transportation-freq  Transportation-sum  \\\n0                 1200.0                  0.0                 0.0   \n1                    0.0                  0.0                 0.0   \n2                    0.0                  0.0                 0.0   \n3                  138.0                  0.0                 0.0   \n4                    0.0                  0.0                 0.0   \n\n   Utilities-freq  Utilities-sum  \n0             0.0           86.0  \n1             0.0            0.0  \n2             0.1         1210.0  \n3             0.1            0.0  \n4             0.4           50.0  "
                    }, 
                    "execution_count": 93, 
                    "metadata": {}
                }
            ], 
            "metadata": {}
        }, 
        {
            "source": "## Features-Eat-All-Ram Model", 
            "cell_type": "markdown", 
            "metadata": {}
        }, 
        {
            "source": "x, y = cc_agg_all, cc_answer", 
            "cell_type": "code", 
            "execution_count": 94, 
            "outputs": [], 
            "metadata": {
                "collapsed": true
            }
        }, 
        {
            "source": "x_train, x_test, y_train, y_test = train_test_split(cc_agg_all.iloc[:, 1:], \n                                                    cc_answer.iloc[:, 1:11], \n                                                    test_size=0.5, \n                                                    random_state=42)", 
            "cell_type": "code", 
            "execution_count": 69, 
            "outputs": [], 
            "metadata": {
                "collapsed": true
            }
        }, 
        {
            "source": "fear_model = MultiOutputRegressor(RandomForestRegressor()).fit(x_train, y_train)", 
            "cell_type": "code", 
            "execution_count": 49, 
            "outputs": [], 
            "metadata": {
                "collapsed": true
            }
        }, 
        {
            "source": "prediction_list[2] = ('FEAR', fear_model, cc_agg_all.iloc[:, 1:], cc_answer.iloc[:, 1:11])", 
            "cell_type": "code", 
            "execution_count": 79, 
            "outputs": [
                {
                    "output_type": "stream", 
                    "name": "stdout", 
                    "text": "\n"
                }
            ], 
            "metadata": {}
        }, 
        {
            "source": "print 'Training MAE: ', mean_absolute_error(y_train, fear_model.predict(x_train))\nprint 'Training MSE: ', mean_squared_error(y_train, fear_model.predict(x_train))\nprint 'Testing MAE: ', mean_absolute_error(y_test, fear_model.predict(x_test))\nprint 'Testing MSE: ', mean_squared_error(y_test, fear_model.predict(x_test))", 
            "cell_type": "code", 
            "execution_count": 50, 
            "outputs": [
                {
                    "output_type": "stream", 
                    "name": "stdout", 
                    "text": "Training MAE:  744.7443331\nTraining MSE:  80514797.2178\nTesting MAE:  2053.18228487\nTesting MSE:  553720844.203\n"
                }
            ], 
            "metadata": {}
        }, 
        {
            "source": "fear_result = pd.DataFrame(prediction_list[2][1].predict(prediction_list[2][2]), columns = cc_answer.iloc[:, 1:11].columns)\nfear_result['card_no'] = cc_answer.iloc[:, 0]\nfear_result.to_csv('satha-fear-result.csv', index=False)\nput_file(satha_credentials, 'satha-fear-result.csv')", 
            "cell_type": "code", 
            "execution_count": 95, 
            "outputs": [
                {
                    "output_type": "stream", 
                    "name": "stdout", 
                    "text": "<Response [201]>\n"
                }
            ], 
            "metadata": {}
        }, 
        {
            "source": "## He-Ate-Little-Features Model", 
            "cell_type": "markdown", 
            "metadata": {}
        }, 
        {
            "source": "x_train, x_test, y_train, y_test = train_test_split(cc_agg_all.iloc[:, 1:], \n                                                    cc_answer.iloc[:, 1:11], \n                                                    test_size=0.5, \n                                                    random_state=42)", 
            "cell_type": "code", 
            "execution_count": 81, 
            "outputs": [], 
            "metadata": {
                "collapsed": true
            }
        }, 
        {
            "source": "pca = PCA(n_components=64).fit(x_train, y_train)\nhalf_model = MultiOutputRegressor(RandomForestRegressor()).fit(pca.transform(x_train), y_train)", 
            "cell_type": "code", 
            "execution_count": 84, 
            "outputs": [], 
            "metadata": {
                "collapsed": true
            }
        }, 
        {
            "source": "print 'Training MAE: ', mean_absolute_error(y_train, half_model.predict(pca.transform(x_train)))\nprint 'Training MSE: ', mean_squared_error(y_train, half_model.predict(pca.transform(x_train)))\nprint 'Testing MAE: ', mean_absolute_error(y_test, half_model.predict(pca.transform(x_test)))\nprint 'Testing MSE: ', mean_squared_error(y_test, half_model.predict(pca.transform(x_test)))", 
            "cell_type": "code", 
            "execution_count": 85, 
            "outputs": [
                {
                    "output_type": "stream", 
                    "name": "stdout", 
                    "text": "Training MAE:  833.646171272\nTraining MSE:  92422443.625\nTesting MAE:  2293.75769178\nTesting MSE:  548865678.829\n"
                }
            ], 
            "metadata": {}
        }, 
        {
            "source": "prediction_list.append(('HALF', half_model, pca.transform(cc_agg_all.iloc[:, 1:]), cc_answer.iloc[:, 1:11]))", 
            "cell_type": "code", 
            "execution_count": 87, 
            "outputs": [], 
            "metadata": {
                "collapsed": true
            }
        }, 
        {
            "source": "## Model Comparison", 
            "cell_type": "markdown", 
            "metadata": {}
        }, 
        {
            "source": "for name, model, x, y in prediction_list:\n    print '----------', name, '----------'\n    print 'MAE: ', mean_absolute_error(y, model.predict(x))\n    print 'MSE: ', mean_squared_error(y, model.predict(x))", 
            "cell_type": "code", 
            "execution_count": 88, 
            "outputs": [
                {
                    "output_type": "stream", 
                    "name": "stdout", 
                    "text": "---------- Mindless ----------\nMAE:  1772.69133235\nMSE:  374967279.314\n---------- HMC ----------\nMAE:  1420.10129262\nMSE:  295852501.73\n---------- FEAR ----------\nMAE:  1398.96330899\nMSE:  317117820.711\n---------- HALF ----------\nMAE:  1563.70193153\nMSE:  320644061.227\n"
                }
            ], 
            "metadata": {}
        }, 
        {
            "source": "model_features = pd.DataFrame(columns=x_train.columns)\n# a = None\nfor name, model, idx in hmc_model_list:\n#     a = pd.DataFrame([model.feature_importances_], columns=x_train.columns)\n#     break\n    model_features = model_features.append(pd.DataFrame([model.feature_importances_], columns = x_train.columns, index=[name]))\n# model_features[0, :].sort_values\n# a.head()\n# model_features = model_features.transpose()\nfor idx, row in model_features.iterrows():\n    print '----------', idx, '----------'\n    print row.sort_values(ascending=False)[:10]\n    print '\\n\\n'\n#     break\n# model_features.iloc[:, 0].sort_values(ascending=False)", 
            "cell_type": "code", 
            "execution_count": 430, 
            "outputs": [
                {
                    "output_type": "stream", 
                    "name": "stdout", 
                    "text": "---------- Automobiles and Vehicles-freq ----------\nAutomobiles and Vehicles_count    0.509983\nAutomobiles and Vehicles_mean     0.042742\nage                               0.041144\nincm_amt                          0.040231\nAutomobiles and Vehicles_max      0.034971\nprev_cr_lmt_amt                   0.031560\nAutomobiles and Vehicles_min      0.029894\ncr_lmt_amt                        0.027544\ncr_line_amt                       0.026797\nopn_yr                            0.018168\nName: Automobiles and Vehicles-freq, dtype: float64\n\n\n\n---------- Automobiles and Vehicles-sum ----------\nAutomobiles and Vehicles_mean     0.115834\nAutomobiles and Vehicles_max      0.113402\nAutomobiles and Vehicles_min      0.074226\nAutomobiles and Vehicles_count    0.074216\nage                               0.055454\ncard_age                          0.053073\ncr_lmt_amt                        0.051065\nPersonal Service Providers_max    0.050704\nincm_amt                          0.046664\nprev_cr_lmt_amt                   0.032901\nName: Automobiles and Vehicles-sum, dtype: float64\n\n\n\n---------- Clothing Stores-freq ----------\nClothing Stores_max           0.090267\nincm_amt                      0.062254\nage                           0.057919\ncr_line_amt                   0.049816\ncr_lmt_amt                    0.041638\nprev_cr_lmt_amt               0.034289\nClothing Stores_count         0.033795\nRetail Stores_mean            0.033008\nMiscellaneous Stores_count    0.031523\nRetail Stores_max             0.029885\nName: Clothing Stores-freq, dtype: float64\n\n\n\n---------- Clothing Stores-sum ----------\nClothing Stores_count     0.154741\nClothing Stores_max       0.097978\nClothing Stores_mean      0.092174\ncr_lmt_amt                0.070884\nRetail Stores_max         0.042973\nprev_cr_lmt_amt           0.041683\nopn_yr                    0.039909\nService Providers_mean    0.037477\ncr_line_amt               0.036579\nage                       0.033820\nName: Clothing Stores-sum, dtype: float64\n\n\n\n---------- Service Providers-freq ----------\nService Providers_count                     0.484321\nService Providers_mean                      0.052912\nService Providers_max                       0.050140\nage                                         0.048005\nincm_amt                                    0.046630\nMail Order/Telephone Order Providers_min    0.044925\nService Providers_min                       0.036412\ncr_line_amt                                 0.030247\ncr_lmt_amt                                  0.029009\nopn_yr                                      0.021840\nName: Service Providers-freq, dtype: float64\n\n\n\n---------- Service Providers-sum ----------\nprev_cr_lmt_amt          0.202372\nage                      0.086173\nincm_amt                 0.079323\ncr_line_amt              0.050464\ncr_lmt_amt               0.050304\nopn_yr                   0.041490\nService Providers_max    0.029342\ncard_age                 0.026704\nRetail Stores_min        0.025972\nexp_yr                   0.024921\nName: Service Providers-sum, dtype: float64\n\n\n\n---------- Transportation-freq ----------\nTransportation_count          0.483803\nTransportation_min            0.040663\nTransportation_mean           0.033641\ncr_lmt_amt                    0.025058\nage                           0.024997\nincm_amt                      0.022809\nopn_yr                        0.017572\ncr_line_amt                   0.016655\nMiscellaneous Stores_count    0.014855\nHotels and Motels_count       0.014663\nName: Transportation-freq, dtype: float64\n\n\n\n---------- Transportation-sum ----------\nTransportation_max                                        0.105887\nTransportation_count                                      0.084339\nage                                                       0.045410\ncr_lmt_amt                                                0.041608\nprev_cr_lmt_amt                                           0.040635\nProfessional Services and Membership Organizations_min    0.040043\nProfessional Services and Membership Organizations_max    0.038631\nRetail Stores_max                                         0.029599\ncr_line_amt                                               0.028835\nMiscellaneous Stores_count                                0.028516\nName: Transportation-sum, dtype: float64\n\n\n\n---------- Utilities-freq ----------\nUtilities_count              0.126653\nUtilities_max                0.098575\nUtilities_mean               0.052860\nage                          0.051862\nincm_amt                     0.050743\ncr_line_amt                  0.041710\ncr_lmt_amt                   0.037691\nMiscellaneous Stores_max     0.032272\nMiscellaneous Stores_mean    0.031678\nUtilities_min                0.030376\nName: Utilities-freq, dtype: float64\n\n\n\n---------- Utilities-sum ----------\nGovernment Services_min                                   0.128210\nMiscellaneous Stores_count                                0.085805\nTransportation_min                                        0.084847\nHotels and Motels_max                                     0.084394\nProfessional Services and Membership Organizations_max    0.082880\nClothing Stores_mean                                      0.080412\nClothing Stores_max                                       0.078497\nGovernment Services_max                                   0.074946\nTransportation_count                                      0.073930\nincm_amt                                                  0.017833\nName: Utilities-sum, dtype: float64\n\n\n\n"
                }
            ], 
            "metadata": {}
        }, 
        {
            "source": "cc_answer_201512.describe()", 
            "cell_type": "code", 
            "execution_count": 183, 
            "outputs": [
                {
                    "output_type": "execute_result", 
                    "metadata": {}, 
                    "data": {
                        "text/plain": "            card_no  Automobiles and Vehicles-freq  \\\ncount  9.959400e+04                   99594.000000   \nmean   4.410123e+15                       0.015734   \nstd    2.886838e+04                       0.131430   \nmin    4.410123e+15                       0.000000   \n25%    4.410123e+15                       0.000000   \n50%    4.410123e+15                       0.000000   \n75%    4.410123e+15                       0.000000   \nmax    4.410123e+15                       3.000000   \n\n       Automobiles and Vehicles-sum  Clothing Stores-freq  \\\ncount                  99594.000000          99594.000000   \nmean                      13.915497              0.005783   \nstd                      183.337658              0.095624   \nmin                        0.000000              0.000000   \n25%                        0.000000              0.000000   \n50%                        0.000000              0.000000   \n75%                        0.000000              0.000000   \nmax                    36000.000000              6.000000   \n\n       Clothing Stores-sum  Service Providers-freq  Service Providers-sum  \\\ncount         99594.000000            99594.000000           99594.000000   \nmean             21.017330                0.004709              33.309838   \nstd            1053.371913                0.106273            2658.005935   \nmin               0.000000                0.000000               0.000000   \n25%               0.000000                0.000000               0.000000   \n50%               0.000000                0.000000               0.000000   \n75%               0.000000                0.000000               0.000000   \nmax          276300.000000               11.000000          800000.000000   \n\n       Transportation-freq  Transportation-sum  Utilities-freq  Utilities-sum  \ncount         99594.000000        99594.000000    99594.000000   99594.000000  \nmean              0.002309            8.787678        0.002681      14.559913  \nstd               0.055923          567.669278        0.064028     678.314570  \nmin               0.000000            0.000000        0.000000       0.000000  \n25%               0.000000            0.000000        0.000000       0.000000  \n50%               0.000000            0.000000        0.000000       0.000000  \n75%               0.000000            0.000000        0.000000       0.000000  \nmax               4.000000       141460.000000        7.000000   92700.000000  ", 
                        "text/html": "<div>\n<table border=\"1\" class=\"dataframe\">\n  <thead>\n    <tr style=\"text-align: right;\">\n      <th></th>\n      <th>card_no</th>\n      <th>Automobiles and Vehicles-freq</th>\n      <th>Automobiles and Vehicles-sum</th>\n      <th>Clothing Stores-freq</th>\n      <th>Clothing Stores-sum</th>\n      <th>Service Providers-freq</th>\n      <th>Service Providers-sum</th>\n      <th>Transportation-freq</th>\n      <th>Transportation-sum</th>\n      <th>Utilities-freq</th>\n      <th>Utilities-sum</th>\n    </tr>\n  </thead>\n  <tbody>\n    <tr>\n      <th>count</th>\n      <td>9.959400e+04</td>\n      <td>99594.000000</td>\n      <td>99594.000000</td>\n      <td>99594.000000</td>\n      <td>99594.000000</td>\n      <td>99594.000000</td>\n      <td>99594.000000</td>\n      <td>99594.000000</td>\n      <td>99594.000000</td>\n      <td>99594.000000</td>\n      <td>99594.000000</td>\n    </tr>\n    <tr>\n      <th>mean</th>\n      <td>4.410123e+15</td>\n      <td>0.015734</td>\n      <td>13.915497</td>\n      <td>0.005783</td>\n      <td>21.017330</td>\n      <td>0.004709</td>\n      <td>33.309838</td>\n      <td>0.002309</td>\n      <td>8.787678</td>\n      <td>0.002681</td>\n      <td>14.559913</td>\n    </tr>\n    <tr>\n      <th>std</th>\n      <td>2.886838e+04</td>\n      <td>0.131430</td>\n      <td>183.337658</td>\n      <td>0.095624</td>\n      <td>1053.371913</td>\n      <td>0.106273</td>\n      <td>2658.005935</td>\n      <td>0.055923</td>\n      <td>567.669278</td>\n      <td>0.064028</td>\n      <td>678.314570</td>\n    </tr>\n    <tr>\n      <th>min</th>\n      <td>4.410123e+15</td>\n      <td>0.000000</td>\n      <td>0.000000</td>\n      <td>0.000000</td>\n      <td>0.000000</td>\n      <td>0.000000</td>\n      <td>0.000000</td>\n      <td>0.000000</td>\n      <td>0.000000</td>\n      <td>0.000000</td>\n      <td>0.000000</td>\n    </tr>\n    <tr>\n      <th>25%</th>\n      <td>4.410123e+15</td>\n      <td>0.000000</td>\n      <td>0.000000</td>\n      <td>0.000000</td>\n      <td>0.000000</td>\n      <td>0.000000</td>\n      <td>0.000000</td>\n      <td>0.000000</td>\n      <td>0.000000</td>\n      <td>0.000000</td>\n      <td>0.000000</td>\n    </tr>\n    <tr>\n      <th>50%</th>\n      <td>4.410123e+15</td>\n      <td>0.000000</td>\n      <td>0.000000</td>\n      <td>0.000000</td>\n      <td>0.000000</td>\n      <td>0.000000</td>\n      <td>0.000000</td>\n      <td>0.000000</td>\n      <td>0.000000</td>\n      <td>0.000000</td>\n      <td>0.000000</td>\n    </tr>\n    <tr>\n      <th>75%</th>\n      <td>4.410123e+15</td>\n      <td>0.000000</td>\n      <td>0.000000</td>\n      <td>0.000000</td>\n      <td>0.000000</td>\n      <td>0.000000</td>\n      <td>0.000000</td>\n      <td>0.000000</td>\n      <td>0.000000</td>\n      <td>0.000000</td>\n      <td>0.000000</td>\n    </tr>\n    <tr>\n      <th>max</th>\n      <td>4.410123e+15</td>\n      <td>3.000000</td>\n      <td>36000.000000</td>\n      <td>6.000000</td>\n      <td>276300.000000</td>\n      <td>11.000000</td>\n      <td>800000.000000</td>\n      <td>4.000000</td>\n      <td>141460.000000</td>\n      <td>7.000000</td>\n      <td>92700.000000</td>\n    </tr>\n  </tbody>\n</table>\n</div>"
                    }, 
                    "execution_count": 183
                }
            ], 
            "metadata": {}
        }, 
        {
            "source": "## Visualization", 
            "cell_type": "markdown", 
            "metadata": {}
        }, 
        {
            "source": "sns.boxplot()", 
            "cell_type": "code", 
            "execution_count": null, 
            "outputs": [], 
            "metadata": {
                "collapsed": true
            }
        }, 
        {
            "source": "sns.distplot(cc.loc[cc['Automobiles and Vehicles-freq'] > 0, 'Automobiles and Vehicles-freq'])", 
            "cell_type": "code", 
            "execution_count": null, 
            "outputs": [], 
            "metadata": {
                "collapsed": true
            }
        }, 
        {
            "source": "sns.distplot(cc['Clothing Stores-freq'])", 
            "cell_type": "code", 
            "execution_count": null, 
            "outputs": [], 
            "metadata": {
                "collapsed": true
            }
        }, 
        {
            "source": "sns.distplot(cc['Service Providers-freq'])", 
            "cell_type": "code", 
            "execution_count": null, 
            "outputs": [], 
            "metadata": {
                "collapsed": true
            }
        }, 
        {
            "source": "sns.distplot(cc['Transportation-freq'])", 
            "cell_type": "code", 
            "execution_count": null, 
            "outputs": [], 
            "metadata": {
                "collapsed": true
            }
        }, 
        {
            "source": "sns.distplot(cc['Utilities-freq'])", 
            "cell_type": "code", 
            "execution_count": null, 
            "outputs": [], 
            "metadata": {
                "collapsed": true
            }
        }
    ], 
    "nbformat": 4, 
    "metadata": {
        "kernelspec": {
            "display_name": "Python 2 with Spark 2.0", 
            "name": "python2-spark20", 
            "language": "python"
        }, 
        "language_info": {
            "mimetype": "text/x-python", 
            "nbconvert_exporter": "python", 
            "version": "2.7.11", 
            "name": "python", 
            "pygments_lexer": "ipython2", 
            "file_extension": ".py", 
            "codemirror_mode": {
                "version": 2, 
                "name": "ipython"
            }
        }
    }
}